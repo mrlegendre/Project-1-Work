{
 "cells": [
  {
   "cell_type": "code",
   "execution_count": 88,
   "id": "b34c1975-51d0-487f-b318-950cfd5530c6",
   "metadata": {},
   "outputs": [],
   "source": [
    "# Initial imports\n",
    "import pandas as pd\n",
    "import numpy as np\n",
    "import datetime as dt\n",
    "from pathlib import Path\n",
    "import seaborn as sns\n",
    "\n",
    "%matplotlib inline"
   ]
  },
  {
   "cell_type": "code",
   "execution_count": 89,
   "id": "2c2737bc-492c-466d-9633-0bf01b678cba",
   "metadata": {},
   "outputs": [],
   "source": [
    "# Reading GBTC data, set path for csv file\n",
    "GBTC_data = Path(\"C:/Users/owner/Documents/git/homework/Project-1-Work/Resources/GBTC.csv\")\n",
    "\n",
    "# Read in the data into Pandas DataFrames, set date as index\n",
    "GBTC_df=pd.read_csv(GBTC_data, index_col=\"time\", infer_datetime_format=True, parse_dates=True)"
   ]
  },
  {
   "cell_type": "code",
   "execution_count": 90,
   "id": "59dcf0f5-0469-4c4e-a6ce-5250ede36475",
   "metadata": {},
   "outputs": [],
   "source": [
    "# Reading ARKK data, set path for csv file\n",
    "ARKK_data = Path(\"C:/Users/owner/Documents/git/homework/Project-1-Work/Resources/ARKK.csv\")\n",
    "\n",
    "# Read in the data into Pandas DataFrames, set date as index\n",
    "ARKK_df=pd.read_csv(ARKK_data, index_col=\"time\", infer_datetime_format=True, parse_dates=True)\n"
   ]
  },
  {
   "cell_type": "code",
   "execution_count": 91,
   "id": "0393a6ec-0bbe-48b1-bf27-371757e7c739",
   "metadata": {},
   "outputs": [],
   "source": [
    "# Reading NASDAQ data, set path for csv file\n",
    "NASDAQ_data = Path(\"C:/Users/owner/Documents/git/homework/Project-1-Work/Resources/NASDAQ.csv\")\n",
    "\n",
    "# Read in the data into Pandas DataFrames, set date as index\n",
    "NASDAQ_df=pd.read_csv(NASDAQ_data, index_col=\"time\", infer_datetime_format=True, parse_dates=True)"
   ]
  },
  {
   "cell_type": "code",
   "execution_count": 92,
   "id": "94173601-e407-43b7-95a9-9041992f4927",
   "metadata": {},
   "outputs": [
    {
     "data": {
      "text/html": [
       "<div>\n",
       "<style scoped>\n",
       "    .dataframe tbody tr th:only-of-type {\n",
       "        vertical-align: middle;\n",
       "    }\n",
       "\n",
       "    .dataframe tbody tr th {\n",
       "        vertical-align: top;\n",
       "    }\n",
       "\n",
       "    .dataframe thead th {\n",
       "        text-align: right;\n",
       "    }\n",
       "</style>\n",
       "<table border=\"1\" class=\"dataframe\">\n",
       "  <thead>\n",
       "    <tr style=\"text-align: right;\">\n",
       "      <th></th>\n",
       "      <th>open</th>\n",
       "      <th>high</th>\n",
       "      <th>low</th>\n",
       "      <th>close</th>\n",
       "      <th>K</th>\n",
       "      <th>D</th>\n",
       "    </tr>\n",
       "    <tr>\n",
       "      <th>time</th>\n",
       "      <th></th>\n",
       "      <th></th>\n",
       "      <th></th>\n",
       "      <th></th>\n",
       "      <th></th>\n",
       "      <th></th>\n",
       "    </tr>\n",
       "  </thead>\n",
       "  <tbody>\n",
       "    <tr>\n",
       "      <th>2014-10-31 09:30:00-04:00</th>\n",
       "      <td>20.42</td>\n",
       "      <td>20.42</td>\n",
       "      <td>20.38</td>\n",
       "      <td>20.38</td>\n",
       "      <td>NaN</td>\n",
       "      <td>NaN</td>\n",
       "    </tr>\n",
       "    <tr>\n",
       "      <th>2014-11-03 09:30:00-05:00</th>\n",
       "      <td>20.49</td>\n",
       "      <td>20.49</td>\n",
       "      <td>20.35</td>\n",
       "      <td>20.38</td>\n",
       "      <td>NaN</td>\n",
       "      <td>NaN</td>\n",
       "    </tr>\n",
       "    <tr>\n",
       "      <th>2014-11-04 09:30:00-05:00</th>\n",
       "      <td>20.20</td>\n",
       "      <td>20.27</td>\n",
       "      <td>20.20</td>\n",
       "      <td>20.26</td>\n",
       "      <td>NaN</td>\n",
       "      <td>NaN</td>\n",
       "    </tr>\n",
       "    <tr>\n",
       "      <th>2014-11-05 09:30:00-05:00</th>\n",
       "      <td>20.51</td>\n",
       "      <td>20.51</td>\n",
       "      <td>20.00</td>\n",
       "      <td>20.00</td>\n",
       "      <td>NaN</td>\n",
       "      <td>NaN</td>\n",
       "    </tr>\n",
       "    <tr>\n",
       "      <th>2014-11-06 09:30:00-05:00</th>\n",
       "      <td>20.09</td>\n",
       "      <td>20.14</td>\n",
       "      <td>20.07</td>\n",
       "      <td>20.14</td>\n",
       "      <td>NaN</td>\n",
       "      <td>NaN</td>\n",
       "    </tr>\n",
       "  </tbody>\n",
       "</table>\n",
       "</div>"
      ],
      "text/plain": [
       "                            open   high    low  close   K   D\n",
       "time                                                         \n",
       "2014-10-31 09:30:00-04:00  20.42  20.42  20.38  20.38 NaN NaN\n",
       "2014-11-03 09:30:00-05:00  20.49  20.49  20.35  20.38 NaN NaN\n",
       "2014-11-04 09:30:00-05:00  20.20  20.27  20.20  20.26 NaN NaN\n",
       "2014-11-05 09:30:00-05:00  20.51  20.51  20.00  20.00 NaN NaN\n",
       "2014-11-06 09:30:00-05:00  20.09  20.14  20.07  20.14 NaN NaN"
      ]
     },
     "execution_count": 92,
     "metadata": {},
     "output_type": "execute_result"
    }
   ],
   "source": [
    "ARKK_df.head()"
   ]
  },
  {
   "cell_type": "code",
   "execution_count": 93,
   "id": "7d45dfa5-eaab-4e9a-8a8c-805594e5e47d",
   "metadata": {},
   "outputs": [],
   "source": [
    "#drop columns not used\n",
    "GBTC_df = GBTC_df.drop(columns = [\"open\", \"high\", \"low\",\"K\",\"D\"])\n",
    "ARKK_df = ARKK_df.drop(columns = [\"open\", \"high\", \"low\",\"K\",\"D\"])\n",
    "NASDAQ_df = NASDAQ_df.drop(columns = [\"open\", \"high\", \"low\",\"K\",\"D\"])"
   ]
  },
  {
   "cell_type": "code",
   "execution_count": 36,
   "id": "2f844b95-d5f6-425c-acb8-efb3843b2ea5",
   "metadata": {},
   "outputs": [
    {
     "data": {
      "text/plain": [
       "close    0.0\n",
       "dtype: float64"
      ]
     },
     "execution_count": 36,
     "metadata": {},
     "output_type": "execute_result"
    }
   ],
   "source": [
    "#identify nulls\n",
    "GBTC_df.isnull().mean()*100"
   ]
  },
  {
   "cell_type": "code",
   "execution_count": 37,
   "id": "c2197c67-10d0-4a89-9949-254a98acdafa",
   "metadata": {},
   "outputs": [
    {
     "data": {
      "text/plain": [
       "close    0.0\n",
       "dtype: float64"
      ]
     },
     "execution_count": 37,
     "metadata": {},
     "output_type": "execute_result"
    }
   ],
   "source": [
    "#identify nulls\n",
    "ARKK_df.isnull().mean()*100"
   ]
  },
  {
   "cell_type": "code",
   "execution_count": 38,
   "id": "13d9e958-918d-487e-9fef-25b81029b4eb",
   "metadata": {},
   "outputs": [
    {
     "data": {
      "text/plain": [
       "close    0.0\n",
       "dtype: float64"
      ]
     },
     "execution_count": 38,
     "metadata": {},
     "output_type": "execute_result"
    }
   ],
   "source": [
    "#identify nulls\n",
    "NASDAQ_df.isnull().mean()*100"
   ]
  },
  {
   "cell_type": "code",
   "execution_count": 94,
   "id": "4d5fe025-27f5-4077-ac30-5c8fd7dffa05",
   "metadata": {},
   "outputs": [
    {
     "data": {
      "text/html": [
       "<div>\n",
       "<style scoped>\n",
       "    .dataframe tbody tr th:only-of-type {\n",
       "        vertical-align: middle;\n",
       "    }\n",
       "\n",
       "    .dataframe tbody tr th {\n",
       "        vertical-align: top;\n",
       "    }\n",
       "\n",
       "    .dataframe thead th {\n",
       "        text-align: right;\n",
       "    }\n",
       "</style>\n",
       "<table border=\"1\" class=\"dataframe\">\n",
       "  <thead>\n",
       "    <tr style=\"text-align: right;\">\n",
       "      <th></th>\n",
       "      <th>close</th>\n",
       "    </tr>\n",
       "    <tr>\n",
       "      <th>time</th>\n",
       "      <th></th>\n",
       "    </tr>\n",
       "  </thead>\n",
       "  <tbody>\n",
       "    <tr>\n",
       "      <th>2015-05-04 09:30:00-04:00</th>\n",
       "      <td>0.461538</td>\n",
       "    </tr>\n",
       "    <tr>\n",
       "      <th>2015-05-05 09:30:00-04:00</th>\n",
       "      <td>0.604395</td>\n",
       "    </tr>\n",
       "    <tr>\n",
       "      <th>2015-05-07 09:30:00-04:00</th>\n",
       "      <td>0.439560</td>\n",
       "    </tr>\n",
       "    <tr>\n",
       "      <th>2015-05-08 09:30:00-04:00</th>\n",
       "      <td>0.538461</td>\n",
       "    </tr>\n",
       "    <tr>\n",
       "      <th>2015-05-11 09:30:00-04:00</th>\n",
       "      <td>0.549450</td>\n",
       "    </tr>\n",
       "  </tbody>\n",
       "</table>\n",
       "</div>"
      ],
      "text/plain": [
       "                              close\n",
       "time                               \n",
       "2015-05-04 09:30:00-04:00  0.461538\n",
       "2015-05-05 09:30:00-04:00  0.604395\n",
       "2015-05-07 09:30:00-04:00  0.439560\n",
       "2015-05-08 09:30:00-04:00  0.538461\n",
       "2015-05-11 09:30:00-04:00  0.549450"
      ]
     },
     "execution_count": 94,
     "metadata": {},
     "output_type": "execute_result"
    }
   ],
   "source": [
    "GBTC_df.head()\n"
   ]
  },
  {
   "cell_type": "code",
   "execution_count": 20,
   "id": "9e79d4b2-0f81-4669-afe5-fb1de834f644",
   "metadata": {},
   "outputs": [],
   "source": []
  },
  {
   "cell_type": "code",
   "execution_count": 95,
   "id": "73357acb-ff5d-49d8-bff5-d00f695e9d41",
   "metadata": {},
   "outputs": [
    {
     "data": {
      "text/html": [
       "<div>\n",
       "<style scoped>\n",
       "    .dataframe tbody tr th:only-of-type {\n",
       "        vertical-align: middle;\n",
       "    }\n",
       "\n",
       "    .dataframe tbody tr th {\n",
       "        vertical-align: top;\n",
       "    }\n",
       "\n",
       "    .dataframe thead th {\n",
       "        text-align: right;\n",
       "    }\n",
       "</style>\n",
       "<table border=\"1\" class=\"dataframe\">\n",
       "  <thead>\n",
       "    <tr style=\"text-align: right;\">\n",
       "      <th></th>\n",
       "      <th>close</th>\n",
       "    </tr>\n",
       "    <tr>\n",
       "      <th>time</th>\n",
       "      <th></th>\n",
       "    </tr>\n",
       "  </thead>\n",
       "  <tbody>\n",
       "    <tr>\n",
       "      <th>2014-10-31 09:30:00-04:00</th>\n",
       "      <td>20.38</td>\n",
       "    </tr>\n",
       "    <tr>\n",
       "      <th>2014-11-03 09:30:00-05:00</th>\n",
       "      <td>20.38</td>\n",
       "    </tr>\n",
       "    <tr>\n",
       "      <th>2014-11-04 09:30:00-05:00</th>\n",
       "      <td>20.26</td>\n",
       "    </tr>\n",
       "    <tr>\n",
       "      <th>2014-11-05 09:30:00-05:00</th>\n",
       "      <td>20.00</td>\n",
       "    </tr>\n",
       "    <tr>\n",
       "      <th>2014-11-06 09:30:00-05:00</th>\n",
       "      <td>20.14</td>\n",
       "    </tr>\n",
       "  </tbody>\n",
       "</table>\n",
       "</div>"
      ],
      "text/plain": [
       "                           close\n",
       "time                            \n",
       "2014-10-31 09:30:00-04:00  20.38\n",
       "2014-11-03 09:30:00-05:00  20.38\n",
       "2014-11-04 09:30:00-05:00  20.26\n",
       "2014-11-05 09:30:00-05:00  20.00\n",
       "2014-11-06 09:30:00-05:00  20.14"
      ]
     },
     "execution_count": 95,
     "metadata": {},
     "output_type": "execute_result"
    }
   ],
   "source": [
    "ARKK_df.head()"
   ]
  },
  {
   "cell_type": "code",
   "execution_count": 96,
   "id": "8b1ac399-45e8-4342-852c-a31cde9b0686",
   "metadata": {},
   "outputs": [
    {
     "data": {
      "text/html": [
       "<div>\n",
       "<style scoped>\n",
       "    .dataframe tbody tr th:only-of-type {\n",
       "        vertical-align: middle;\n",
       "    }\n",
       "\n",
       "    .dataframe tbody tr th {\n",
       "        vertical-align: top;\n",
       "    }\n",
       "\n",
       "    .dataframe thead th {\n",
       "        text-align: right;\n",
       "    }\n",
       "</style>\n",
       "<table border=\"1\" class=\"dataframe\">\n",
       "  <thead>\n",
       "    <tr style=\"text-align: right;\">\n",
       "      <th></th>\n",
       "      <th>close</th>\n",
       "    </tr>\n",
       "    <tr>\n",
       "      <th>time</th>\n",
       "      <th></th>\n",
       "    </tr>\n",
       "  </thead>\n",
       "  <tbody>\n",
       "    <tr>\n",
       "      <th>2012-05-30 09:30:00-04:00</th>\n",
       "      <td>2837.36</td>\n",
       "    </tr>\n",
       "    <tr>\n",
       "      <th>2012-05-31 09:30:00-04:00</th>\n",
       "      <td>2827.34</td>\n",
       "    </tr>\n",
       "    <tr>\n",
       "      <th>2012-06-01 09:30:00-04:00</th>\n",
       "      <td>2747.48</td>\n",
       "    </tr>\n",
       "    <tr>\n",
       "      <th>2012-06-04 09:30:00-04:00</th>\n",
       "      <td>2760.01</td>\n",
       "    </tr>\n",
       "    <tr>\n",
       "      <th>2012-06-05 09:30:00-04:00</th>\n",
       "      <td>2778.11</td>\n",
       "    </tr>\n",
       "  </tbody>\n",
       "</table>\n",
       "</div>"
      ],
      "text/plain": [
       "                             close\n",
       "time                              \n",
       "2012-05-30 09:30:00-04:00  2837.36\n",
       "2012-05-31 09:30:00-04:00  2827.34\n",
       "2012-06-01 09:30:00-04:00  2747.48\n",
       "2012-06-04 09:30:00-04:00  2760.01\n",
       "2012-06-05 09:30:00-04:00  2778.11"
      ]
     },
     "execution_count": 96,
     "metadata": {},
     "output_type": "execute_result"
    }
   ],
   "source": [
    "NASDAQ_df.head()"
   ]
  },
  {
   "cell_type": "code",
   "execution_count": 97,
   "id": "01037d75-f950-44ea-b082-9dc06cff2dc8",
   "metadata": {},
   "outputs": [],
   "source": [
    "#calculate returns on ETFs and NASDAQ througout time period\n",
    "GBTC_df = GBTC_df.pct_change()"
   ]
  },
  {
   "cell_type": "code",
   "execution_count": 98,
   "id": "8481bf8a-d9a5-43b0-8be6-856ceaec0b80",
   "metadata": {},
   "outputs": [
    {
     "data": {
      "text/html": [
       "<div>\n",
       "<style scoped>\n",
       "    .dataframe tbody tr th:only-of-type {\n",
       "        vertical-align: middle;\n",
       "    }\n",
       "\n",
       "    .dataframe tbody tr th {\n",
       "        vertical-align: top;\n",
       "    }\n",
       "\n",
       "    .dataframe thead th {\n",
       "        text-align: right;\n",
       "    }\n",
       "</style>\n",
       "<table border=\"1\" class=\"dataframe\">\n",
       "  <thead>\n",
       "    <tr style=\"text-align: right;\">\n",
       "      <th></th>\n",
       "      <th>close</th>\n",
       "    </tr>\n",
       "    <tr>\n",
       "      <th>time</th>\n",
       "      <th></th>\n",
       "    </tr>\n",
       "  </thead>\n",
       "  <tbody>\n",
       "    <tr>\n",
       "      <th>2015-05-04 09:30:00-04:00</th>\n",
       "      <td>NaN</td>\n",
       "    </tr>\n",
       "    <tr>\n",
       "      <th>2015-05-05 09:30:00-04:00</th>\n",
       "      <td>0.309524</td>\n",
       "    </tr>\n",
       "    <tr>\n",
       "      <th>2015-05-07 09:30:00-04:00</th>\n",
       "      <td>-0.272727</td>\n",
       "    </tr>\n",
       "    <tr>\n",
       "      <th>2015-05-08 09:30:00-04:00</th>\n",
       "      <td>0.225000</td>\n",
       "    </tr>\n",
       "    <tr>\n",
       "      <th>2015-05-11 09:30:00-04:00</th>\n",
       "      <td>0.020408</td>\n",
       "    </tr>\n",
       "  </tbody>\n",
       "</table>\n",
       "</div>"
      ],
      "text/plain": [
       "                              close\n",
       "time                               \n",
       "2015-05-04 09:30:00-04:00       NaN\n",
       "2015-05-05 09:30:00-04:00  0.309524\n",
       "2015-05-07 09:30:00-04:00 -0.272727\n",
       "2015-05-08 09:30:00-04:00  0.225000\n",
       "2015-05-11 09:30:00-04:00  0.020408"
      ]
     },
     "execution_count": 98,
     "metadata": {},
     "output_type": "execute_result"
    }
   ],
   "source": [
    "GBTC_df.head()"
   ]
  },
  {
   "cell_type": "code",
   "execution_count": 99,
   "id": "4395a89a-fcd3-4727-b6f7-b1c3182a96f4",
   "metadata": {},
   "outputs": [],
   "source": [
    "#calculate returns on ETFs and NASDAQ througout time period\n",
    "ARKK_df = ARKK_df.pct_change()"
   ]
  },
  {
   "cell_type": "code",
   "execution_count": 100,
   "id": "a7ec820e-d1c9-4746-905a-b9e06730b560",
   "metadata": {},
   "outputs": [
    {
     "data": {
      "text/html": [
       "<div>\n",
       "<style scoped>\n",
       "    .dataframe tbody tr th:only-of-type {\n",
       "        vertical-align: middle;\n",
       "    }\n",
       "\n",
       "    .dataframe tbody tr th {\n",
       "        vertical-align: top;\n",
       "    }\n",
       "\n",
       "    .dataframe thead th {\n",
       "        text-align: right;\n",
       "    }\n",
       "</style>\n",
       "<table border=\"1\" class=\"dataframe\">\n",
       "  <thead>\n",
       "    <tr style=\"text-align: right;\">\n",
       "      <th></th>\n",
       "      <th>close</th>\n",
       "    </tr>\n",
       "    <tr>\n",
       "      <th>time</th>\n",
       "      <th></th>\n",
       "    </tr>\n",
       "  </thead>\n",
       "  <tbody>\n",
       "    <tr>\n",
       "      <th>2014-10-31 09:30:00-04:00</th>\n",
       "      <td>NaN</td>\n",
       "    </tr>\n",
       "    <tr>\n",
       "      <th>2014-11-03 09:30:00-05:00</th>\n",
       "      <td>0.000000</td>\n",
       "    </tr>\n",
       "    <tr>\n",
       "      <th>2014-11-04 09:30:00-05:00</th>\n",
       "      <td>-0.005888</td>\n",
       "    </tr>\n",
       "    <tr>\n",
       "      <th>2014-11-05 09:30:00-05:00</th>\n",
       "      <td>-0.012833</td>\n",
       "    </tr>\n",
       "    <tr>\n",
       "      <th>2014-11-06 09:30:00-05:00</th>\n",
       "      <td>0.007000</td>\n",
       "    </tr>\n",
       "  </tbody>\n",
       "</table>\n",
       "</div>"
      ],
      "text/plain": [
       "                              close\n",
       "time                               \n",
       "2014-10-31 09:30:00-04:00       NaN\n",
       "2014-11-03 09:30:00-05:00  0.000000\n",
       "2014-11-04 09:30:00-05:00 -0.005888\n",
       "2014-11-05 09:30:00-05:00 -0.012833\n",
       "2014-11-06 09:30:00-05:00  0.007000"
      ]
     },
     "execution_count": 100,
     "metadata": {},
     "output_type": "execute_result"
    }
   ],
   "source": [
    "ARKK_df.head()"
   ]
  },
  {
   "cell_type": "code",
   "execution_count": 101,
   "id": "a3d00f31-bce4-4e0e-b333-21ba09142676",
   "metadata": {},
   "outputs": [],
   "source": [
    "#calculate returns on ETFs and NASDAQ througout time period\n",
    "NASDAQ_df = NASDAQ_df.pct_change()"
   ]
  },
  {
   "cell_type": "code",
   "execution_count": 102,
   "id": "83c92122-69fa-418b-bca4-0505cd86dd09",
   "metadata": {},
   "outputs": [
    {
     "data": {
      "text/html": [
       "<div>\n",
       "<style scoped>\n",
       "    .dataframe tbody tr th:only-of-type {\n",
       "        vertical-align: middle;\n",
       "    }\n",
       "\n",
       "    .dataframe tbody tr th {\n",
       "        vertical-align: top;\n",
       "    }\n",
       "\n",
       "    .dataframe thead th {\n",
       "        text-align: right;\n",
       "    }\n",
       "</style>\n",
       "<table border=\"1\" class=\"dataframe\">\n",
       "  <thead>\n",
       "    <tr style=\"text-align: right;\">\n",
       "      <th></th>\n",
       "      <th>close</th>\n",
       "    </tr>\n",
       "    <tr>\n",
       "      <th>time</th>\n",
       "      <th></th>\n",
       "    </tr>\n",
       "  </thead>\n",
       "  <tbody>\n",
       "    <tr>\n",
       "      <th>2012-05-30 09:30:00-04:00</th>\n",
       "      <td>NaN</td>\n",
       "    </tr>\n",
       "    <tr>\n",
       "      <th>2012-05-31 09:30:00-04:00</th>\n",
       "      <td>-0.003531</td>\n",
       "    </tr>\n",
       "    <tr>\n",
       "      <th>2012-06-01 09:30:00-04:00</th>\n",
       "      <td>-0.028246</td>\n",
       "    </tr>\n",
       "    <tr>\n",
       "      <th>2012-06-04 09:30:00-04:00</th>\n",
       "      <td>0.004561</td>\n",
       "    </tr>\n",
       "    <tr>\n",
       "      <th>2012-06-05 09:30:00-04:00</th>\n",
       "      <td>0.006558</td>\n",
       "    </tr>\n",
       "  </tbody>\n",
       "</table>\n",
       "</div>"
      ],
      "text/plain": [
       "                              close\n",
       "time                               \n",
       "2012-05-30 09:30:00-04:00       NaN\n",
       "2012-05-31 09:30:00-04:00 -0.003531\n",
       "2012-06-01 09:30:00-04:00 -0.028246\n",
       "2012-06-04 09:30:00-04:00  0.004561\n",
       "2012-06-05 09:30:00-04:00  0.006558"
      ]
     },
     "execution_count": 102,
     "metadata": {},
     "output_type": "execute_result"
    }
   ],
   "source": [
    "NASDAQ_df.head()"
   ]
  },
  {
   "cell_type": "code",
   "execution_count": 103,
   "id": "7a050825-1638-4038-a607-bb4c9e5073fd",
   "metadata": {},
   "outputs": [],
   "source": [
    "# Rename `Close` Column to 'return'\n",
    "GBTC_df = GBTC_df.rename(columns = {\n",
    "    \"close\" : \"GBTC_return\"\n",
    "})"
   ]
  },
  {
   "cell_type": "code",
   "execution_count": 104,
   "id": "23765d17-81fb-4998-ab46-5491ac8a15ec",
   "metadata": {},
   "outputs": [
    {
     "data": {
      "text/html": [
       "<div>\n",
       "<style scoped>\n",
       "    .dataframe tbody tr th:only-of-type {\n",
       "        vertical-align: middle;\n",
       "    }\n",
       "\n",
       "    .dataframe tbody tr th {\n",
       "        vertical-align: top;\n",
       "    }\n",
       "\n",
       "    .dataframe thead th {\n",
       "        text-align: right;\n",
       "    }\n",
       "</style>\n",
       "<table border=\"1\" class=\"dataframe\">\n",
       "  <thead>\n",
       "    <tr style=\"text-align: right;\">\n",
       "      <th></th>\n",
       "      <th>GBTC_return</th>\n",
       "    </tr>\n",
       "    <tr>\n",
       "      <th>time</th>\n",
       "      <th></th>\n",
       "    </tr>\n",
       "  </thead>\n",
       "  <tbody>\n",
       "    <tr>\n",
       "      <th>2015-05-04 09:30:00-04:00</th>\n",
       "      <td>NaN</td>\n",
       "    </tr>\n",
       "    <tr>\n",
       "      <th>2015-05-05 09:30:00-04:00</th>\n",
       "      <td>0.309524</td>\n",
       "    </tr>\n",
       "    <tr>\n",
       "      <th>2015-05-07 09:30:00-04:00</th>\n",
       "      <td>-0.272727</td>\n",
       "    </tr>\n",
       "    <tr>\n",
       "      <th>2015-05-08 09:30:00-04:00</th>\n",
       "      <td>0.225000</td>\n",
       "    </tr>\n",
       "    <tr>\n",
       "      <th>2015-05-11 09:30:00-04:00</th>\n",
       "      <td>0.020408</td>\n",
       "    </tr>\n",
       "  </tbody>\n",
       "</table>\n",
       "</div>"
      ],
      "text/plain": [
       "                           GBTC_return\n",
       "time                                  \n",
       "2015-05-04 09:30:00-04:00          NaN\n",
       "2015-05-05 09:30:00-04:00     0.309524\n",
       "2015-05-07 09:30:00-04:00    -0.272727\n",
       "2015-05-08 09:30:00-04:00     0.225000\n",
       "2015-05-11 09:30:00-04:00     0.020408"
      ]
     },
     "execution_count": 104,
     "metadata": {},
     "output_type": "execute_result"
    }
   ],
   "source": [
    "GBTC_df.head()"
   ]
  },
  {
   "cell_type": "code",
   "execution_count": 105,
   "id": "ca4597eb-56cd-4b65-812e-38a14454a9d1",
   "metadata": {},
   "outputs": [],
   "source": [
    "# Rename `Close` Column to 'return'\n",
    "ARKK_df = ARKK_df.rename(columns = {\n",
    "    \"close\" : \"ARKK return\"\n",
    "})\n",
    "\n",
    "# Rename `Close` Column to 'return'\n",
    "NASDAQ_df = NASDAQ_df.rename(columns = {\n",
    "    \"close\" : \"NASDAQ return\"\n",
    "})\n"
   ]
  },
  {
   "cell_type": "code",
   "execution_count": 106,
   "id": "d15d0ffc-9838-48b6-810d-69ddef3e0632",
   "metadata": {},
   "outputs": [
    {
     "data": {
      "text/html": [
       "<div>\n",
       "<style scoped>\n",
       "    .dataframe tbody tr th:only-of-type {\n",
       "        vertical-align: middle;\n",
       "    }\n",
       "\n",
       "    .dataframe tbody tr th {\n",
       "        vertical-align: top;\n",
       "    }\n",
       "\n",
       "    .dataframe thead th {\n",
       "        text-align: right;\n",
       "    }\n",
       "</style>\n",
       "<table border=\"1\" class=\"dataframe\">\n",
       "  <thead>\n",
       "    <tr style=\"text-align: right;\">\n",
       "      <th></th>\n",
       "      <th>ARKK return</th>\n",
       "    </tr>\n",
       "    <tr>\n",
       "      <th>time</th>\n",
       "      <th></th>\n",
       "    </tr>\n",
       "  </thead>\n",
       "  <tbody>\n",
       "    <tr>\n",
       "      <th>2022-07-07 09:30:00-04:00</th>\n",
       "      <td>0.065287</td>\n",
       "    </tr>\n",
       "    <tr>\n",
       "      <th>2022-07-08 09:30:00-04:00</th>\n",
       "      <td>0.000641</td>\n",
       "    </tr>\n",
       "    <tr>\n",
       "      <th>2022-07-11 09:30:00-04:00</th>\n",
       "      <td>-0.069142</td>\n",
       "    </tr>\n",
       "    <tr>\n",
       "      <th>2022-07-12 09:30:00-04:00</th>\n",
       "      <td>0.016048</td>\n",
       "    </tr>\n",
       "    <tr>\n",
       "      <th>2022-07-13 09:30:00-04:00</th>\n",
       "      <td>-0.006995</td>\n",
       "    </tr>\n",
       "  </tbody>\n",
       "</table>\n",
       "</div>"
      ],
      "text/plain": [
       "                           ARKK return\n",
       "time                                  \n",
       "2022-07-07 09:30:00-04:00     0.065287\n",
       "2022-07-08 09:30:00-04:00     0.000641\n",
       "2022-07-11 09:30:00-04:00    -0.069142\n",
       "2022-07-12 09:30:00-04:00     0.016048\n",
       "2022-07-13 09:30:00-04:00    -0.006995"
      ]
     },
     "execution_count": 106,
     "metadata": {},
     "output_type": "execute_result"
    }
   ],
   "source": [
    "ARKK_df.tail()"
   ]
  },
  {
   "cell_type": "code",
   "execution_count": 107,
   "id": "8a5c3ff6-d270-4cd6-94e0-d7fae65889a1",
   "metadata": {},
   "outputs": [
    {
     "data": {
      "text/html": [
       "<div>\n",
       "<style scoped>\n",
       "    .dataframe tbody tr th:only-of-type {\n",
       "        vertical-align: middle;\n",
       "    }\n",
       "\n",
       "    .dataframe tbody tr th {\n",
       "        vertical-align: top;\n",
       "    }\n",
       "\n",
       "    .dataframe thead th {\n",
       "        text-align: right;\n",
       "    }\n",
       "</style>\n",
       "<table border=\"1\" class=\"dataframe\">\n",
       "  <thead>\n",
       "    <tr style=\"text-align: right;\">\n",
       "      <th></th>\n",
       "      <th>NASDAQ return</th>\n",
       "    </tr>\n",
       "    <tr>\n",
       "      <th>time</th>\n",
       "      <th></th>\n",
       "    </tr>\n",
       "  </thead>\n",
       "  <tbody>\n",
       "    <tr>\n",
       "      <th>2022-07-08 09:30:00-04:00</th>\n",
       "      <td>0.001201</td>\n",
       "    </tr>\n",
       "    <tr>\n",
       "      <th>2022-07-11 09:30:00-04:00</th>\n",
       "      <td>-0.022579</td>\n",
       "    </tr>\n",
       "    <tr>\n",
       "      <th>2022-07-12 09:30:00-04:00</th>\n",
       "      <td>-0.009485</td>\n",
       "    </tr>\n",
       "    <tr>\n",
       "      <th>2022-07-13 09:30:00-04:00</th>\n",
       "      <td>-0.001522</td>\n",
       "    </tr>\n",
       "    <tr>\n",
       "      <th>2022-07-14 09:30:00-04:00</th>\n",
       "      <td>0.000320</td>\n",
       "    </tr>\n",
       "  </tbody>\n",
       "</table>\n",
       "</div>"
      ],
      "text/plain": [
       "                           NASDAQ return\n",
       "time                                    \n",
       "2022-07-08 09:30:00-04:00       0.001201\n",
       "2022-07-11 09:30:00-04:00      -0.022579\n",
       "2022-07-12 09:30:00-04:00      -0.009485\n",
       "2022-07-13 09:30:00-04:00      -0.001522\n",
       "2022-07-14 09:30:00-04:00       0.000320"
      ]
     },
     "execution_count": 107,
     "metadata": {},
     "output_type": "execute_result"
    }
   ],
   "source": [
    "NASDAQ_df.tail()"
   ]
  },
  {
   "cell_type": "code",
   "execution_count": 108,
   "id": "649c6468-8982-4607-aef0-0912079962b0",
   "metadata": {},
   "outputs": [],
   "source": [
    "#sort dataframes by index - time\n",
    "GBTC_df=GBTC_df.sort_index()\n",
    "ARKK_df=ARKK_df.sort_index()\n",
    "NASDAQ_df=NASDAQ_df.sort_index()\n",
    "\n"
   ]
  },
  {
   "cell_type": "code",
   "execution_count": 109,
   "id": "dea10807-3957-452b-bf06-c4aef9c86ab9",
   "metadata": {},
   "outputs": [],
   "source": [
    "# Join into a single DataFrame with columns for each portfolio's returns.\n",
    "combined_df = pd.concat([GBTC_df, ARKK_df, NASDAQ_df], axis=\"columns\", join=\"inner\"\n",
    ")"
   ]
  },
  {
   "cell_type": "code",
   "execution_count": 110,
   "id": "16174179-ad5e-4a89-8a2e-82e31c14b323",
   "metadata": {},
   "outputs": [
    {
     "data": {
      "text/html": [
       "<div>\n",
       "<style scoped>\n",
       "    .dataframe tbody tr th:only-of-type {\n",
       "        vertical-align: middle;\n",
       "    }\n",
       "\n",
       "    .dataframe tbody tr th {\n",
       "        vertical-align: top;\n",
       "    }\n",
       "\n",
       "    .dataframe thead th {\n",
       "        text-align: right;\n",
       "    }\n",
       "</style>\n",
       "<table border=\"1\" class=\"dataframe\">\n",
       "  <thead>\n",
       "    <tr style=\"text-align: right;\">\n",
       "      <th></th>\n",
       "      <th>GBTC_return</th>\n",
       "      <th>ARKK return</th>\n",
       "      <th>NASDAQ return</th>\n",
       "    </tr>\n",
       "    <tr>\n",
       "      <th>time</th>\n",
       "      <th></th>\n",
       "      <th></th>\n",
       "      <th></th>\n",
       "    </tr>\n",
       "  </thead>\n",
       "  <tbody>\n",
       "    <tr>\n",
       "      <th>2015-05-04 09:30:00-04:00</th>\n",
       "      <td>NaN</td>\n",
       "      <td>0.010683</td>\n",
       "      <td>0.002306</td>\n",
       "    </tr>\n",
       "    <tr>\n",
       "      <th>2015-05-05 09:30:00-04:00</th>\n",
       "      <td>0.309524</td>\n",
       "      <td>-0.011527</td>\n",
       "      <td>-0.015468</td>\n",
       "    </tr>\n",
       "    <tr>\n",
       "      <th>2015-05-07 09:30:00-04:00</th>\n",
       "      <td>-0.272727</td>\n",
       "      <td>0.010659</td>\n",
       "      <td>0.005265</td>\n",
       "    </tr>\n",
       "    <tr>\n",
       "      <th>2015-05-08 09:30:00-04:00</th>\n",
       "      <td>0.225000</td>\n",
       "      <td>-0.000959</td>\n",
       "      <td>0.011730</td>\n",
       "    </tr>\n",
       "    <tr>\n",
       "      <th>2015-05-11 09:30:00-04:00</th>\n",
       "      <td>0.020408</td>\n",
       "      <td>0.007678</td>\n",
       "      <td>-0.001995</td>\n",
       "    </tr>\n",
       "    <tr>\n",
       "      <th>...</th>\n",
       "      <td>...</td>\n",
       "      <td>...</td>\n",
       "      <td>...</td>\n",
       "    </tr>\n",
       "    <tr>\n",
       "      <th>2022-07-07 09:30:00-04:00</th>\n",
       "      <td>0.093005</td>\n",
       "      <td>0.065287</td>\n",
       "      <td>0.022839</td>\n",
       "    </tr>\n",
       "    <tr>\n",
       "      <th>2022-07-08 09:30:00-04:00</th>\n",
       "      <td>0.001455</td>\n",
       "      <td>0.000641</td>\n",
       "      <td>0.001201</td>\n",
       "    </tr>\n",
       "    <tr>\n",
       "      <th>2022-07-11 09:30:00-04:00</th>\n",
       "      <td>-0.066812</td>\n",
       "      <td>-0.069142</td>\n",
       "      <td>-0.022579</td>\n",
       "    </tr>\n",
       "    <tr>\n",
       "      <th>2022-07-12 09:30:00-04:00</th>\n",
       "      <td>-0.049805</td>\n",
       "      <td>0.016048</td>\n",
       "      <td>-0.009485</td>\n",
       "    </tr>\n",
       "    <tr>\n",
       "      <th>2022-07-13 09:30:00-04:00</th>\n",
       "      <td>0.016380</td>\n",
       "      <td>-0.006995</td>\n",
       "      <td>-0.001522</td>\n",
       "    </tr>\n",
       "  </tbody>\n",
       "</table>\n",
       "<p>1801 rows × 3 columns</p>\n",
       "</div>"
      ],
      "text/plain": [
       "                           GBTC_return  ARKK return  NASDAQ return\n",
       "time                                                              \n",
       "2015-05-04 09:30:00-04:00          NaN     0.010683       0.002306\n",
       "2015-05-05 09:30:00-04:00     0.309524    -0.011527      -0.015468\n",
       "2015-05-07 09:30:00-04:00    -0.272727     0.010659       0.005265\n",
       "2015-05-08 09:30:00-04:00     0.225000    -0.000959       0.011730\n",
       "2015-05-11 09:30:00-04:00     0.020408     0.007678      -0.001995\n",
       "...                                ...          ...            ...\n",
       "2022-07-07 09:30:00-04:00     0.093005     0.065287       0.022839\n",
       "2022-07-08 09:30:00-04:00     0.001455     0.000641       0.001201\n",
       "2022-07-11 09:30:00-04:00    -0.066812    -0.069142      -0.022579\n",
       "2022-07-12 09:30:00-04:00    -0.049805     0.016048      -0.009485\n",
       "2022-07-13 09:30:00-04:00     0.016380    -0.006995      -0.001522\n",
       "\n",
       "[1801 rows x 3 columns]"
      ]
     },
     "execution_count": 110,
     "metadata": {},
     "output_type": "execute_result"
    }
   ],
   "source": [
    "combined_df"
   ]
  },
  {
   "cell_type": "code",
   "execution_count": 111,
   "id": "cbffd18c-90f5-44d1-aeb2-291f6c7001e8",
   "metadata": {},
   "outputs": [
    {
     "data": {
      "text/plain": [
       "<AxesSubplot:xlabel='time'>"
      ]
     },
     "execution_count": 111,
     "metadata": {},
     "output_type": "execute_result"
    },
    {
     "data": {
      "image/png": "[encoded data removed]",
      "text/plain": [
       "<Figure size 432x288 with 1 Axes>"
      ]
     },
     "metadata": {
      "needs_background": "light"
     },
     "output_type": "display_data"
    }
   ],
   "source": [
    "# Plot daily returns of all portfolios\n",
    "combined_df.plot()"
   ]
  },
  {
   "cell_type": "code",
   "execution_count": 113,
   "id": "e30e2e15-7f2e-44ec-8a08-51f4b860b1a6",
   "metadata": {},
   "outputs": [
    {
     "data": {
      "text/plain": [
       "<AxesSubplot:title={'center':'Cumulative Returns'}, xlabel='time'>"
      ]
     },
     "execution_count": 113,
     "metadata": {},
     "output_type": "execute_result"
    },
    {
     "data": {
      "image/png": "[encoded data removed]",
      "text/plain": [
       "<Figure size 1440x720 with 1 Axes>"
      ]
     },
     "metadata": {
      "needs_background": "light"
     },
     "output_type": "display_data"
    }
   ],
   "source": [
    "# Calculate cumulative returns of all portfolios\n",
    "cumulative_returns = (1 + combined_df).cumprod() - 1\n",
    "\n",
    "cumulative_returns.head()\n",
    "\n",
    "# Plot cumulative returns\n",
    "cumulative_returns.plot(title=\"Cumulative Returns\", figsize=(20,10))"
   ]
  },
  {
   "cell_type": "code",
   "execution_count": 114,
   "id": "9e6dfaa0-437d-4a88-b9c4-42cbb9d82ffc",
   "metadata": {},
   "outputs": [
    {
     "data": {
      "text/plain": [
       "<AxesSubplot:>"
      ]
     },
     "execution_count": 114,
     "metadata": {},
     "output_type": "execute_result"
    },
    {
     "data": {
      "image/png": "[encoded data removed]",
      "text/plain": [
       "<Figure size 1440x720 with 1 Axes>"
      ]
     },
     "metadata": {
      "needs_background": "light"
     },
     "output_type": "display_data"
    }
   ],
   "source": [
    "# Box plot to visually show risk\n",
    "combined_df.plot.box(figsize=(20,10))"
   ]
  },
  {
   "cell_type": "code",
   "execution_count": 115,
   "id": "fdf253ad-8b3c-4d0f-8742-f991edd3fc81",
   "metadata": {},
   "outputs": [],
   "source": [
    "#calculate the daily standard deviation of all portfolios to show a risk analysis\n",
    "all_portfolio_std = combined_df.std()"
   ]
  },
  {
   "cell_type": "code",
   "execution_count": 116,
   "id": "93fd4d0b-55c5-4476-8b41-24c4f9f2300b",
   "metadata": {},
   "outputs": [
    {
     "data": {
      "text/plain": [
       "<AxesSubplot:title={'center':'Standard Deviation'}>"
      ]
     },
     "execution_count": 116,
     "metadata": {},
     "output_type": "execute_result"
    },
    {
     "data": {
      "image/png": "[encoded data removed]",
      "text/plain": [
       "<Figure size 432x288 with 1 Axes>"
      ]
     },
     "metadata": {
      "needs_background": "light"
     },
     "output_type": "display_data"
    }
   ],
   "source": [
    "all_portfolio_std.plot.bar(title = \"Standard Deviation\")"
   ]
  },
  {
   "cell_type": "code",
   "execution_count": 117,
   "id": "31892f61-6c9e-426b-8c7c-272f707bc8cc",
   "metadata": {},
   "outputs": [
    {
     "name": "stdout",
     "output_type": "stream",
     "text": [
      "GBTC_return      0.059546\n",
      "ARKK return      0.023281\n",
      "NASDAQ return    0.013800\n",
      "dtype: float64\n"
     ]
    }
   ],
   "source": [
    "print(all_portfolio_std)"
   ]
  },
  {
   "cell_type": "code",
   "execution_count": 118,
   "id": "111f0308-a8ba-4dfa-a8b3-926f6436938a",
   "metadata": {},
   "outputs": [
    {
     "name": "stdout",
     "output_type": "stream",
     "text": [
      "GBTC_return      0.945258\n",
      "ARKK return      0.369576\n",
      "NASDAQ return    0.219063\n",
      "dtype: float64\n"
     ]
    }
   ],
   "source": [
    "# Calculate the annualized standard deviation (252 trading days)\n",
    "annualized_std = (all_portfolio_std * np.sqrt(252))\n",
    "\n",
    "print(annualized_std)"
   ]
  },
  {
   "cell_type": "code",
   "execution_count": 120,
   "id": "d77a491b-3dee-463d-be01-ce3ac6e8b2ed",
   "metadata": {},
   "outputs": [],
   "source": [
    "# Calculate the rolling standard deviation for all portfolios using a 21-day window\n",
    "all_portfolio_21_std = combined_df.rolling(window=21).std()"
   ]
  },
  {
   "cell_type": "code",
   "execution_count": 121,
   "id": "c2dfad57-472a-4eb7-83fc-55f1909ea5c2",
   "metadata": {},
   "outputs": [
    {
     "data": {
      "text/plain": [
       "<AxesSubplot:title={'center':'Rolling Standard Deviation 21 day'}, xlabel='time'>"
      ]
     },
     "execution_count": 121,
     "metadata": {},
     "output_type": "execute_result"
    },
    {
     "data": {
      "image/png": "[encoded data removed]",
      "text/plain": [
       "<Figure size 432x288 with 1 Axes>"
      ]
     },
     "metadata": {
      "needs_background": "light"
     },
     "output_type": "display_data"
    }
   ],
   "source": [
    "# Plot the rolling standard deviation\n",
    "all_portfolio_21_std.plot(title = 'Rolling Standard Deviation 21 day')"
   ]
  },
  {
   "cell_type": "code",
   "execution_count": 122,
   "id": "ce82202c-1ddd-4dd6-86e5-0e373e2ec6ea",
   "metadata": {},
   "outputs": [
    {
     "data": {
      "text/html": [
       "<div>\n",
       "<style scoped>\n",
       "    .dataframe tbody tr th:only-of-type {\n",
       "        vertical-align: middle;\n",
       "    }\n",
       "\n",
       "    .dataframe tbody tr th {\n",
       "        vertical-align: top;\n",
       "    }\n",
       "\n",
       "    .dataframe thead th {\n",
       "        text-align: right;\n",
       "    }\n",
       "</style>\n",
       "<table border=\"1\" class=\"dataframe\">\n",
       "  <thead>\n",
       "    <tr style=\"text-align: right;\">\n",
       "      <th></th>\n",
       "      <th>GBTC_return</th>\n",
       "      <th>ARKK return</th>\n",
       "      <th>NASDAQ return</th>\n",
       "    </tr>\n",
       "  </thead>\n",
       "  <tbody>\n",
       "    <tr>\n",
       "      <th>GBTC_return</th>\n",
       "      <td>1.000000</td>\n",
       "      <td>0.296117</td>\n",
       "      <td>0.227334</td>\n",
       "    </tr>\n",
       "    <tr>\n",
       "      <th>ARKK return</th>\n",
       "      <td>0.296117</td>\n",
       "      <td>1.000000</td>\n",
       "      <td>0.816787</td>\n",
       "    </tr>\n",
       "    <tr>\n",
       "      <th>NASDAQ return</th>\n",
       "      <td>0.227334</td>\n",
       "      <td>0.816787</td>\n",
       "      <td>1.000000</td>\n",
       "    </tr>\n",
       "  </tbody>\n",
       "</table>\n",
       "</div>"
      ],
      "text/plain": [
       "               GBTC_return  ARKK return  NASDAQ return\n",
       "GBTC_return       1.000000     0.296117       0.227334\n",
       "ARKK return       0.296117     1.000000       0.816787\n",
       "NASDAQ return     0.227334     0.816787       1.000000"
      ]
     },
     "execution_count": 122,
     "metadata": {},
     "output_type": "execute_result"
    }
   ],
   "source": [
    "# Calculate the correlation\n",
    "correlation = combined_df.corr()\n",
    "\n",
    "#display correlation matrix\n",
    "correlation"
   ]
  },
  {
   "cell_type": "code",
   "execution_count": null,
   "id": "5802e453-0f7c-4ec9-8857-e7bbfc06020a",
   "metadata": {},
   "outputs": [],
   "source": [
    "#way to do scatter plot based on above?? ...\n"
   ]
  },
  {
   "cell_type": "code",
   "execution_count": 123,
   "id": "e5fe3cea-9d55-4fc5-92a9-705a928c7d5e",
   "metadata": {},
   "outputs": [],
   "source": [
    "# Calculate covariance of a single portfolio -GBTC\n",
    "\n",
    "GBTC_cov = combined_df[\"GBTC_return\"].cov(combined_df[\"NASDAQ return\"])"
   ]
  },
  {
   "cell_type": "code",
   "execution_count": 124,
   "id": "9b2b7b0e-e415-48ac-a9da-7567ec3f9131",
   "metadata": {},
   "outputs": [],
   "source": [
    "# Calculate variance of NASDAQ\n",
    "variance = combined_df[\"NASDAQ return\"].var()"
   ]
  },
  {
   "cell_type": "code",
   "execution_count": null,
   "id": "bd8137c3-dfc7-45a2-a834-3ab663c027a8",
   "metadata": {},
   "outputs": [],
   "source": [
    "# computing BETA ..based on above cov and var..."
   ]
  },
  {
   "cell_type": "code",
   "execution_count": 125,
   "id": "99dc1cb2-3698-42e0-b2b0-6b2260495e4d",
   "metadata": {},
   "outputs": [],
   "source": [
    "# Calculate sharpe ratio\n",
    "sharpe_ratios = (combined_df.mean() * 252) / annualized_std"
   ]
  },
  {
   "cell_type": "code",
   "execution_count": 126,
   "id": "be97545d-044e-4eab-b22c-9e7fe02430f0",
   "metadata": {},
   "outputs": [
    {
     "data": {
      "text/plain": [
       "GBTC_return      0.966334\n",
       "ARKK return      0.479741\n",
       "NASDAQ return    0.627593\n",
       "dtype: float64"
      ]
     },
     "execution_count": 126,
     "metadata": {},
     "output_type": "execute_result"
    }
   ],
   "source": [
    "sharpe_ratios"
   ]
  },
  {
   "cell_type": "code",
   "execution_count": 127,
   "id": "52cada93-ee7f-44fb-a2c9-cdbd436ec9e3",
   "metadata": {},
   "outputs": [
    {
     "data": {
      "text/plain": [
       "<AxesSubplot:title={'center':'Sharpe Ratios'}>"
      ]
     },
     "execution_count": 127,
     "metadata": {},
     "output_type": "execute_result"
    },
    {
     "data": {
      "image/png": "[encoded data removed]",
      "text/plain": [
       "<Figure size 432x288 with 1 Axes>"
      ]
     },
     "metadata": {
      "needs_background": "light"
     },
     "output_type": "display_data"
    }
   ],
   "source": [
    "#Bar graph plot of sharpe ratios\n",
    "sharpe_ratios.plot.bar(title=\"Sharpe Ratios\")"
   ]
  }
 ],
 "metadata": {
  "kernelspec": {
   "display_name": "dev1a",
   "language": "python",
   "name": "dev1a"
  },
  "language_info": {
   "codemirror_mode": {
    "name": "ipython",
    "version": 3
   },
   "file_extension": ".py",
   "mimetype": "text/x-python",
   "name": "python",
   "nbconvert_exporter": "python",
   "pygments_lexer": "ipython3",
   "version": "3.7.13"
  }
 },
 "nbformat": 4,
 "nbformat_minor": 5
}
