{
 "cells": [
  {
   "cell_type": "code",
   "execution_count": 1,
   "id": "4405da26-0810-43a0-a4b5-d8661eace659",
   "metadata": {},
   "outputs": [],
   "source": [
    "# Initial imports\n",
    "import pandas as pd\n",
    "from pathlib import Path"
   ]
  },
  {
   "cell_type": "code",
   "execution_count": 4,
   "id": "bdc89ac7-911a-47cd-9110-c1445babdf63",
   "metadata": {},
   "outputs": [],
   "source": [
    "# Set the path for each CSV file\n",
    "arkk_path = Path(\"C:/Users/teruy/Documents/GitHub/Project-1-Work/Resources/ARKK.csv\")\n",
    "gbtc_path = Path(\"C:/Users/teruy/Documents/GitHub/Project-1-Work/Resources/GBTC.csv\")\n",
    "sp500_path = Path(\"C:/Users/teruy/Documents/GitHub/Project-1-Work/Resources/SP500.csv\")\n",
    "nasdaq_path = Path(\"C:/Users/teruy/Documents/GitHub/Project-1-Work/Resources/NASDAQ.csv\")\n",
    "\n",
    "\n",
    "# Read in the data into Pandas DataFrames\n",
    "arkkdata = pd.read_csv(arkk_path)\n",
    "gbtcdata = pd.read_csv(gbtc_path)\n",
    "sp500data = pd.read_csv(sp500_path)\n",
    "nasdaqdata = pd.read_csv(nasdaq_path)"
   ]
  },
  {
   "cell_type": "code",
   "execution_count": null,
   "id": "e4320aa7-1b9b-48df-befc-f52d4170b679",
   "metadata": {},
   "outputs": [],
   "source": []
  }
 ],
 "metadata": {
  "kernelspec": {
   "display_name": "Python 3 (ipykernel)",
   "language": "python",
   "name": "python3"
  },
  "language_info": {
   "codemirror_mode": {
    "name": "ipython",
    "version": 3
   },
   "file_extension": ".py",
   "mimetype": "text/x-python",
   "name": "python",
   "nbconvert_exporter": "python",
   "pygments_lexer": "ipython3",
   "version": "3.7.13"
  }
 },
 "nbformat": 4,
 "nbformat_minor": 5
}
