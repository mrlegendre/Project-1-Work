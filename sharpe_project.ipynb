{
 "cells": [
  {
   "cell_type": "code",
   "execution_count": 3,
   "id": "ccdd2d69-849e-4c30-ac28-e9b1a71194dc",
   "metadata": {},
   "outputs": [],
   "source": [
    "import pandas as pd\n",
    "import numpy as np\n",
    "import datetime as dt\n",
    "import seaborn as sns\n",
    "from pathlib import Path\n",
    "\n",
    "%matplotlib inline"
   ]
  },
  {
   "cell_type": "code",
   "execution_count": 4,
   "id": "69638f49-55af-433e-9087-fcc5cff7967b",
   "metadata": {},
   "outputs": [],
   "source": [
    "# Reading GBTC data, set path for csv file\n",
    "GBTC_data = Path(\"D:/git/UTOR-VIRT-FIN-PT-05-2022-U-LOLC/Resources/Project-1-Work/Resources/GBTC.csv\")\n",
    "\n",
    "# Read in the data into Pandas DataFrames, set date as index\n",
    "GBTC_df=pd.read_csv(GBTC_data, index_col=\"time\", infer_datetime_format=True, parse_dates=True)"
   ]
  },
  {
   "cell_type": "code",
   "execution_count": 5,
   "id": "84ef2b73-2e47-4de0-8f96-514543728477",
   "metadata": {},
   "outputs": [],
   "source": [
    "# Reading ARKK data, set path for csv file\n",
    "ARKK_data = Path(\"D:/git/UTOR-VIRT-FIN-PT-05-2022-U-LOLC/Resources/Project-1-Work/Resources/ARKK.csv\")\n",
    "\n",
    "# Read in the data into Pandas DataFrames, set date as index\n",
    "ARKK_df=pd.read_csv(ARKK_data, index_col=\"time\", infer_datetime_format=True, parse_dates=True)\n"
   ]
  },
  {
   "cell_type": "code",
   "execution_count": 6,
   "id": "ba652261-cad1-4dc3-8e1e-87a6b3d415b1",
   "metadata": {},
   "outputs": [],
   "source": [
    "# Reading NASDAQ data, set path for csv file\n",
    "NASDAQ_data = Path(\"D:/git/UTOR-VIRT-FIN-PT-05-2022-U-LOLC/Resources/Project-1-Work/Resources/NASDAQ.csv\")\n",
    "\n",
    "# Read n the data into Pandas DataFrames, set date as index\n",
    "NASDAQ_df=pd.read_csv(NASDAQ_data, index_col=\"time\", infer_datetime_format=True, parse_dates=True)"
   ]
  },
  {
   "cell_type": "code",
   "execution_count": 7,
   "id": "9d7fb95d-f472-4bc9-b5f6-9caf10ae144b",
   "metadata": {},
   "outputs": [],
   "source": [
    "# Reading NASDAQ data, set path for csv file\n",
    "SP500_data = Path(\"D:/git/UTOR-VIRT-FIN-PT-05-2022-U-LOLC/Resources/Project-1-Work/Resources/SP500.csv\")\n",
    "\n",
    "# Read n the data into Pandas DataFrames, set date as index\n",
    "SP500_df=pd.read_csv(NASDAQ_data, index_col=\"time\", infer_datetime_format=True, parse_dates=True)"
   ]
  },
  {
   "cell_type": "code",
   "execution_count": 8,
   "id": "798711cf-3d7d-40ff-9fc2-5fbc96b161de",
   "metadata": {},
   "outputs": [
    {
     "data": {
      "text/html": [
       "<div>\n",
       "<style scoped>\n",
       "    .dataframe tbody tr th:only-of-type {\n",
       "        vertical-align: middle;\n",
       "    }\n",
       "\n",
       "    .dataframe tbody tr th {\n",
       "        vertical-align: top;\n",
       "    }\n",
       "\n",
       "    .dataframe thead th {\n",
       "        text-align: right;\n",
       "    }\n",
       "</style>\n",
       "<table border=\"1\" class=\"dataframe\">\n",
       "  <thead>\n",
       "    <tr style=\"text-align: right;\">\n",
       "      <th></th>\n",
       "      <th>open</th>\n",
       "      <th>high</th>\n",
       "      <th>low</th>\n",
       "      <th>close</th>\n",
       "      <th>K</th>\n",
       "      <th>D</th>\n",
       "    </tr>\n",
       "    <tr>\n",
       "      <th>time</th>\n",
       "      <th></th>\n",
       "      <th></th>\n",
       "      <th></th>\n",
       "      <th></th>\n",
       "      <th></th>\n",
       "      <th></th>\n",
       "    </tr>\n",
       "  </thead>\n",
       "  <tbody>\n",
       "    <tr>\n",
       "      <th>2019-01-02 09:30:00-05:00</th>\n",
       "      <td>36.27</td>\n",
       "      <td>37.5728</td>\n",
       "      <td>36.2300</td>\n",
       "      <td>37.42</td>\n",
       "      <td>48.969649</td>\n",
       "      <td>44.038872</td>\n",
       "    </tr>\n",
       "    <tr>\n",
       "      <th>2019-01-03 09:30:00-05:00</th>\n",
       "      <td>37.00</td>\n",
       "      <td>37.1407</td>\n",
       "      <td>35.9100</td>\n",
       "      <td>36.19</td>\n",
       "      <td>49.972903</td>\n",
       "      <td>47.060486</td>\n",
       "    </tr>\n",
       "    <tr>\n",
       "      <th>2019-01-04 09:30:00-05:00</th>\n",
       "      <td>36.90</td>\n",
       "      <td>38.5603</td>\n",
       "      <td>36.8601</td>\n",
       "      <td>38.43</td>\n",
       "      <td>66.576614</td>\n",
       "      <td>55.173055</td>\n",
       "    </tr>\n",
       "    <tr>\n",
       "      <th>2019-01-07 09:30:00-05:00</th>\n",
       "      <td>38.67</td>\n",
       "      <td>40.3300</td>\n",
       "      <td>38.3900</td>\n",
       "      <td>40.10</td>\n",
       "      <td>81.628693</td>\n",
       "      <td>66.059403</td>\n",
       "    </tr>\n",
       "    <tr>\n",
       "      <th>2019-01-08 09:30:00-05:00</th>\n",
       "      <td>40.71</td>\n",
       "      <td>40.8300</td>\n",
       "      <td>39.3075</td>\n",
       "      <td>40.22</td>\n",
       "      <td>100.000000</td>\n",
       "      <td>82.735102</td>\n",
       "    </tr>\n",
       "  </tbody>\n",
       "</table>\n",
       "</div>"
      ],
      "text/plain": [
       "                            open     high      low  close           K  \\\n",
       "time                                                                    \n",
       "2019-01-02 09:30:00-05:00  36.27  37.5728  36.2300  37.42   48.969649   \n",
       "2019-01-03 09:30:00-05:00  37.00  37.1407  35.9100  36.19   49.972903   \n",
       "2019-01-04 09:30:00-05:00  36.90  38.5603  36.8601  38.43   66.576614   \n",
       "2019-01-07 09:30:00-05:00  38.67  40.3300  38.3900  40.10   81.628693   \n",
       "2019-01-08 09:30:00-05:00  40.71  40.8300  39.3075  40.22  100.000000   \n",
       "\n",
       "                                   D  \n",
       "time                                  \n",
       "2019-01-02 09:30:00-05:00  44.038872  \n",
       "2019-01-03 09:30:00-05:00  47.060486  \n",
       "2019-01-04 09:30:00-05:00  55.173055  \n",
       "2019-01-07 09:30:00-05:00  66.059403  \n",
       "2019-01-08 09:30:00-05:00  82.735102  "
      ]
     },
     "execution_count": 8,
     "metadata": {},
     "output_type": "execute_result"
    }
   ],
   "source": [
    "ARKK_df.head()"
   ]
  },
  {
   "cell_type": "code",
   "execution_count": 9,
   "id": "c5adbfa5-fbfb-4365-b9a7-8d751f6e0365",
   "metadata": {},
   "outputs": [
    {
     "data": {
      "text/html": [
       "<div>\n",
       "<style scoped>\n",
       "    .dataframe tbody tr th:only-of-type {\n",
       "        vertical-align: middle;\n",
       "    }\n",
       "\n",
       "    .dataframe tbody tr th {\n",
       "        vertical-align: top;\n",
       "    }\n",
       "\n",
       "    .dataframe thead th {\n",
       "        text-align: right;\n",
       "    }\n",
       "</style>\n",
       "<table border=\"1\" class=\"dataframe\">\n",
       "  <thead>\n",
       "    <tr style=\"text-align: right;\">\n",
       "      <th></th>\n",
       "      <th>open</th>\n",
       "      <th>high</th>\n",
       "      <th>low</th>\n",
       "      <th>close</th>\n",
       "      <th>K</th>\n",
       "      <th>D</th>\n",
       "    </tr>\n",
       "    <tr>\n",
       "      <th>time</th>\n",
       "      <th></th>\n",
       "      <th></th>\n",
       "      <th></th>\n",
       "      <th></th>\n",
       "      <th></th>\n",
       "      <th></th>\n",
       "    </tr>\n",
       "  </thead>\n",
       "  <tbody>\n",
       "    <tr>\n",
       "      <th>2019-01-02 09:30:00-05:00</th>\n",
       "      <td>4.155</td>\n",
       "      <td>4.65</td>\n",
       "      <td>4.13</td>\n",
       "      <td>4.62</td>\n",
       "      <td>73.532185</td>\n",
       "      <td>65.298807</td>\n",
       "    </tr>\n",
       "    <tr>\n",
       "      <th>2019-01-03 09:30:00-05:00</th>\n",
       "      <td>4.325</td>\n",
       "      <td>4.62</td>\n",
       "      <td>4.32</td>\n",
       "      <td>4.52</td>\n",
       "      <td>82.768622</td>\n",
       "      <td>71.769066</td>\n",
       "    </tr>\n",
       "    <tr>\n",
       "      <th>2019-01-04 09:30:00-05:00</th>\n",
       "      <td>4.585</td>\n",
       "      <td>4.65</td>\n",
       "      <td>4.41</td>\n",
       "      <td>4.53</td>\n",
       "      <td>96.104459</td>\n",
       "      <td>84.135089</td>\n",
       "    </tr>\n",
       "    <tr>\n",
       "      <th>2019-01-07 09:30:00-05:00</th>\n",
       "      <td>4.740</td>\n",
       "      <td>4.94</td>\n",
       "      <td>4.74</td>\n",
       "      <td>4.86</td>\n",
       "      <td>96.104459</td>\n",
       "      <td>91.659180</td>\n",
       "    </tr>\n",
       "    <tr>\n",
       "      <th>2019-01-08 09:30:00-05:00</th>\n",
       "      <td>4.895</td>\n",
       "      <td>5.08</td>\n",
       "      <td>4.84</td>\n",
       "      <td>4.96</td>\n",
       "      <td>98.168521</td>\n",
       "      <td>96.792480</td>\n",
       "    </tr>\n",
       "  </tbody>\n",
       "</table>\n",
       "</div>"
      ],
      "text/plain": [
       "                            open  high   low  close          K          D\n",
       "time                                                                     \n",
       "2019-01-02 09:30:00-05:00  4.155  4.65  4.13   4.62  73.532185  65.298807\n",
       "2019-01-03 09:30:00-05:00  4.325  4.62  4.32   4.52  82.768622  71.769066\n",
       "2019-01-04 09:30:00-05:00  4.585  4.65  4.41   4.53  96.104459  84.135089\n",
       "2019-01-07 09:30:00-05:00  4.740  4.94  4.74   4.86  96.104459  91.659180\n",
       "2019-01-08 09:30:00-05:00  4.895  5.08  4.84   4.96  98.168521  96.792480"
      ]
     },
     "execution_count": 9,
     "metadata": {},
     "output_type": "execute_result"
    }
   ],
   "source": [
    "GBTC_df.head()"
   ]
  },
  {
   "cell_type": "code",
   "execution_count": 10,
   "id": "09430d08-b441-4503-b4dd-401fa3834995",
   "metadata": {},
   "outputs": [
    {
     "data": {
      "text/html": [
       "<div>\n",
       "<style scoped>\n",
       "    .dataframe tbody tr th:only-of-type {\n",
       "        vertical-align: middle;\n",
       "    }\n",
       "\n",
       "    .dataframe tbody tr th {\n",
       "        vertical-align: top;\n",
       "    }\n",
       "\n",
       "    .dataframe thead th {\n",
       "        text-align: right;\n",
       "    }\n",
       "</style>\n",
       "<table border=\"1\" class=\"dataframe\">\n",
       "  <thead>\n",
       "    <tr style=\"text-align: right;\">\n",
       "      <th></th>\n",
       "      <th>open</th>\n",
       "      <th>high</th>\n",
       "      <th>low</th>\n",
       "      <th>close</th>\n",
       "      <th>K</th>\n",
       "      <th>D</th>\n",
       "    </tr>\n",
       "    <tr>\n",
       "      <th>time</th>\n",
       "      <th></th>\n",
       "      <th></th>\n",
       "      <th></th>\n",
       "      <th></th>\n",
       "      <th></th>\n",
       "      <th></th>\n",
       "    </tr>\n",
       "  </thead>\n",
       "  <tbody>\n",
       "    <tr>\n",
       "      <th>2019-01-02 09:30:00-05:00</th>\n",
       "      <td>6506.91</td>\n",
       "      <td>6693.71</td>\n",
       "      <td>6506.88</td>\n",
       "      <td>6665.94</td>\n",
       "      <td>83.442841</td>\n",
       "      <td>77.917674</td>\n",
       "    </tr>\n",
       "    <tr>\n",
       "      <th>2019-01-03 09:30:00-05:00</th>\n",
       "      <td>6584.77</td>\n",
       "      <td>6600.21</td>\n",
       "      <td>6457.13</td>\n",
       "      <td>6463.50</td>\n",
       "      <td>80.612381</td>\n",
       "      <td>80.755644</td>\n",
       "    </tr>\n",
       "    <tr>\n",
       "      <th>2019-01-04 09:30:00-05:00</th>\n",
       "      <td>6567.14</td>\n",
       "      <td>6760.69</td>\n",
       "      <td>6554.24</td>\n",
       "      <td>6738.86</td>\n",
       "      <td>85.739007</td>\n",
       "      <td>83.264743</td>\n",
       "    </tr>\n",
       "    <tr>\n",
       "      <th>2019-01-07 09:30:00-05:00</th>\n",
       "      <td>6757.53</td>\n",
       "      <td>6855.60</td>\n",
       "      <td>6741.40</td>\n",
       "      <td>6823.47</td>\n",
       "      <td>88.984788</td>\n",
       "      <td>85.112059</td>\n",
       "    </tr>\n",
       "    <tr>\n",
       "      <th>2019-01-08 09:30:00-05:00</th>\n",
       "      <td>6893.44</td>\n",
       "      <td>6909.58</td>\n",
       "      <td>6795.86</td>\n",
       "      <td>6897.00</td>\n",
       "      <td>100.000000</td>\n",
       "      <td>91.574598</td>\n",
       "    </tr>\n",
       "  </tbody>\n",
       "</table>\n",
       "</div>"
      ],
      "text/plain": [
       "                              open     high      low    close           K  \\\n",
       "time                                                                        \n",
       "2019-01-02 09:30:00-05:00  6506.91  6693.71  6506.88  6665.94   83.442841   \n",
       "2019-01-03 09:30:00-05:00  6584.77  6600.21  6457.13  6463.50   80.612381   \n",
       "2019-01-04 09:30:00-05:00  6567.14  6760.69  6554.24  6738.86   85.739007   \n",
       "2019-01-07 09:30:00-05:00  6757.53  6855.60  6741.40  6823.47   88.984788   \n",
       "2019-01-08 09:30:00-05:00  6893.44  6909.58  6795.86  6897.00  100.000000   \n",
       "\n",
       "                                   D  \n",
       "time                                  \n",
       "2019-01-02 09:30:00-05:00  77.917674  \n",
       "2019-01-03 09:30:00-05:00  80.755644  \n",
       "2019-01-04 09:30:00-05:00  83.264743  \n",
       "2019-01-07 09:30:00-05:00  85.112059  \n",
       "2019-01-08 09:30:00-05:00  91.574598  "
      ]
     },
     "execution_count": 10,
     "metadata": {},
     "output_type": "execute_result"
    }
   ],
   "source": [
    "NASDAQ_df.head()"
   ]
  },
  {
   "cell_type": "code",
   "execution_count": 11,
   "id": "68d7cf29-1aa4-449c-82b1-eb020c2dacac",
   "metadata": {},
   "outputs": [
    {
     "data": {
      "text/html": [
       "<div>\n",
       "<style scoped>\n",
       "    .dataframe tbody tr th:only-of-type {\n",
       "        vertical-align: middle;\n",
       "    }\n",
       "\n",
       "    .dataframe tbody tr th {\n",
       "        vertical-align: top;\n",
       "    }\n",
       "\n",
       "    .dataframe thead th {\n",
       "        text-align: right;\n",
       "    }\n",
       "</style>\n",
       "<table border=\"1\" class=\"dataframe\">\n",
       "  <thead>\n",
       "    <tr style=\"text-align: right;\">\n",
       "      <th></th>\n",
       "      <th>open</th>\n",
       "      <th>high</th>\n",
       "      <th>low</th>\n",
       "      <th>close</th>\n",
       "      <th>K</th>\n",
       "      <th>D</th>\n",
       "    </tr>\n",
       "    <tr>\n",
       "      <th>time</th>\n",
       "      <th></th>\n",
       "      <th></th>\n",
       "      <th></th>\n",
       "      <th></th>\n",
       "      <th></th>\n",
       "      <th></th>\n",
       "    </tr>\n",
       "  </thead>\n",
       "  <tbody>\n",
       "    <tr>\n",
       "      <th>2019-01-02 09:30:00-05:00</th>\n",
       "      <td>6506.91</td>\n",
       "      <td>6693.71</td>\n",
       "      <td>6506.88</td>\n",
       "      <td>6665.94</td>\n",
       "      <td>83.442841</td>\n",
       "      <td>77.917674</td>\n",
       "    </tr>\n",
       "    <tr>\n",
       "      <th>2019-01-03 09:30:00-05:00</th>\n",
       "      <td>6584.77</td>\n",
       "      <td>6600.21</td>\n",
       "      <td>6457.13</td>\n",
       "      <td>6463.50</td>\n",
       "      <td>80.612381</td>\n",
       "      <td>80.755644</td>\n",
       "    </tr>\n",
       "    <tr>\n",
       "      <th>2019-01-04 09:30:00-05:00</th>\n",
       "      <td>6567.14</td>\n",
       "      <td>6760.69</td>\n",
       "      <td>6554.24</td>\n",
       "      <td>6738.86</td>\n",
       "      <td>85.739007</td>\n",
       "      <td>83.264743</td>\n",
       "    </tr>\n",
       "    <tr>\n",
       "      <th>2019-01-07 09:30:00-05:00</th>\n",
       "      <td>6757.53</td>\n",
       "      <td>6855.60</td>\n",
       "      <td>6741.40</td>\n",
       "      <td>6823.47</td>\n",
       "      <td>88.984788</td>\n",
       "      <td>85.112059</td>\n",
       "    </tr>\n",
       "    <tr>\n",
       "      <th>2019-01-08 09:30:00-05:00</th>\n",
       "      <td>6893.44</td>\n",
       "      <td>6909.58</td>\n",
       "      <td>6795.86</td>\n",
       "      <td>6897.00</td>\n",
       "      <td>100.000000</td>\n",
       "      <td>91.574598</td>\n",
       "    </tr>\n",
       "  </tbody>\n",
       "</table>\n",
       "</div>"
      ],
      "text/plain": [
       "                              open     high      low    close           K  \\\n",
       "time                                                                        \n",
       "2019-01-02 09:30:00-05:00  6506.91  6693.71  6506.88  6665.94   83.442841   \n",
       "2019-01-03 09:30:00-05:00  6584.77  6600.21  6457.13  6463.50   80.612381   \n",
       "2019-01-04 09:30:00-05:00  6567.14  6760.69  6554.24  6738.86   85.739007   \n",
       "2019-01-07 09:30:00-05:00  6757.53  6855.60  6741.40  6823.47   88.984788   \n",
       "2019-01-08 09:30:00-05:00  6893.44  6909.58  6795.86  6897.00  100.000000   \n",
       "\n",
       "                                   D  \n",
       "time                                  \n",
       "2019-01-02 09:30:00-05:00  77.917674  \n",
       "2019-01-03 09:30:00-05:00  80.755644  \n",
       "2019-01-04 09:30:00-05:00  83.264743  \n",
       "2019-01-07 09:30:00-05:00  85.112059  \n",
       "2019-01-08 09:30:00-05:00  91.574598  "
      ]
     },
     "execution_count": 11,
     "metadata": {},
     "output_type": "execute_result"
    }
   ],
   "source": [
    "SP500_df.head()"
   ]
  },
  {
   "cell_type": "code",
   "execution_count": 12,
   "id": "8cf8aa37-bb80-43ca-9ee9-cd96128ec8b8",
   "metadata": {},
   "outputs": [],
   "source": [
    "#drop columns not used\n",
    "GBTC_df = GBTC_df.drop(columns = [\"open\", \"high\", \"low\",\"K\",\"D\"])\n",
    "ARKK_df = ARKK_df.drop(columns = [\"open\", \"high\", \"low\",\"K\",\"D\"])\n",
    "NASDAQ_df = NASDAQ_df.drop(columns = [\"open\", \"high\", \"low\",\"K\",\"D\"])\n",
    "SP500_df = SP500_df.drop(columns = [\"open\", \"high\", \"low\",\"K\",\"D\"])"
   ]
  },
  {
   "cell_type": "code",
   "execution_count": 13,
   "id": "e2d34fda-f568-4d63-99e2-cf562a301e91",
   "metadata": {},
   "outputs": [
    {
     "data": {
      "text/plain": [
       "close    0.0\n",
       "dtype: float64"
      ]
     },
     "execution_count": 13,
     "metadata": {},
     "output_type": "execute_result"
    }
   ],
   "source": [
    "#identify nulls\n",
    "GBTC_df.isnull().mean()*100"
   ]
  },
  {
   "cell_type": "code",
   "execution_count": 14,
   "id": "cecb707b-5339-43c6-8449-92d4e07898e5",
   "metadata": {},
   "outputs": [
    {
     "data": {
      "text/plain": [
       "close    0.0\n",
       "dtype: float64"
      ]
     },
     "execution_count": 14,
     "metadata": {},
     "output_type": "execute_result"
    }
   ],
   "source": [
    "#identify nulls\n",
    "ARKK_df.isnull().mean()*100"
   ]
  },
  {
   "cell_type": "code",
   "execution_count": 15,
   "id": "c619aa59-cba9-4577-a66c-d57bcd783d2d",
   "metadata": {},
   "outputs": [
    {
     "data": {
      "text/plain": [
       "close    0.0\n",
       "dtype: float64"
      ]
     },
     "execution_count": 15,
     "metadata": {},
     "output_type": "execute_result"
    }
   ],
   "source": [
    "#identify nulls\n",
    "NASDAQ_df.isnull().mean()*100"
   ]
  },
  {
   "cell_type": "code",
   "execution_count": 16,
   "id": "57c185ff-6f33-4ac5-a455-5829bf35a6d6",
   "metadata": {},
   "outputs": [
    {
     "data": {
      "text/plain": [
       "close    0.0\n",
       "dtype: float64"
      ]
     },
     "execution_count": 16,
     "metadata": {},
     "output_type": "execute_result"
    }
   ],
   "source": [
    "SP500_df.isnull().mean()*100"
   ]
  },
  {
   "cell_type": "code",
   "execution_count": 17,
   "id": "85d4be38-25c4-4ae4-b9b8-e413f904d71a",
   "metadata": {},
   "outputs": [
    {
     "data": {
      "text/html": [
       "<div>\n",
       "<style scoped>\n",
       "    .dataframe tbody tr th:only-of-type {\n",
       "        vertical-align: middle;\n",
       "    }\n",
       "\n",
       "    .dataframe tbody tr th {\n",
       "        vertical-align: top;\n",
       "    }\n",
       "\n",
       "    .dataframe thead th {\n",
       "        text-align: right;\n",
       "    }\n",
       "</style>\n",
       "<table border=\"1\" class=\"dataframe\">\n",
       "  <thead>\n",
       "    <tr style=\"text-align: right;\">\n",
       "      <th></th>\n",
       "      <th>close</th>\n",
       "    </tr>\n",
       "    <tr>\n",
       "      <th>time</th>\n",
       "      <th></th>\n",
       "    </tr>\n",
       "  </thead>\n",
       "  <tbody>\n",
       "    <tr>\n",
       "      <th>2019-01-02 09:30:00-05:00</th>\n",
       "      <td>4.62</td>\n",
       "    </tr>\n",
       "    <tr>\n",
       "      <th>2019-01-03 09:30:00-05:00</th>\n",
       "      <td>4.52</td>\n",
       "    </tr>\n",
       "    <tr>\n",
       "      <th>2019-01-04 09:30:00-05:00</th>\n",
       "      <td>4.53</td>\n",
       "    </tr>\n",
       "    <tr>\n",
       "      <th>2019-01-07 09:30:00-05:00</th>\n",
       "      <td>4.86</td>\n",
       "    </tr>\n",
       "    <tr>\n",
       "      <th>2019-01-08 09:30:00-05:00</th>\n",
       "      <td>4.96</td>\n",
       "    </tr>\n",
       "  </tbody>\n",
       "</table>\n",
       "</div>"
      ],
      "text/plain": [
       "                           close\n",
       "time                            \n",
       "2019-01-02 09:30:00-05:00   4.62\n",
       "2019-01-03 09:30:00-05:00   4.52\n",
       "2019-01-04 09:30:00-05:00   4.53\n",
       "2019-01-07 09:30:00-05:00   4.86\n",
       "2019-01-08 09:30:00-05:00   4.96"
      ]
     },
     "execution_count": 17,
     "metadata": {},
     "output_type": "execute_result"
    }
   ],
   "source": [
    "GBTC_df.head()"
   ]
  },
  {
   "cell_type": "code",
   "execution_count": 18,
   "id": "13be4546-bdf4-4896-baae-44d823b3466d",
   "metadata": {},
   "outputs": [
    {
     "data": {
      "text/html": [
       "<div>\n",
       "<style scoped>\n",
       "    .dataframe tbody tr th:only-of-type {\n",
       "        vertical-align: middle;\n",
       "    }\n",
       "\n",
       "    .dataframe tbody tr th {\n",
       "        vertical-align: top;\n",
       "    }\n",
       "\n",
       "    .dataframe thead th {\n",
       "        text-align: right;\n",
       "    }\n",
       "</style>\n",
       "<table border=\"1\" class=\"dataframe\">\n",
       "  <thead>\n",
       "    <tr style=\"text-align: right;\">\n",
       "      <th></th>\n",
       "      <th>close</th>\n",
       "    </tr>\n",
       "    <tr>\n",
       "      <th>time</th>\n",
       "      <th></th>\n",
       "    </tr>\n",
       "  </thead>\n",
       "  <tbody>\n",
       "    <tr>\n",
       "      <th>2019-01-02 09:30:00-05:00</th>\n",
       "      <td>37.42</td>\n",
       "    </tr>\n",
       "    <tr>\n",
       "      <th>2019-01-03 09:30:00-05:00</th>\n",
       "      <td>36.19</td>\n",
       "    </tr>\n",
       "    <tr>\n",
       "      <th>2019-01-04 09:30:00-05:00</th>\n",
       "      <td>38.43</td>\n",
       "    </tr>\n",
       "    <tr>\n",
       "      <th>2019-01-07 09:30:00-05:00</th>\n",
       "      <td>40.10</td>\n",
       "    </tr>\n",
       "    <tr>\n",
       "      <th>2019-01-08 09:30:00-05:00</th>\n",
       "      <td>40.22</td>\n",
       "    </tr>\n",
       "  </tbody>\n",
       "</table>\n",
       "</div>"
      ],
      "text/plain": [
       "                           close\n",
       "time                            \n",
       "2019-01-02 09:30:00-05:00  37.42\n",
       "2019-01-03 09:30:00-05:00  36.19\n",
       "2019-01-04 09:30:00-05:00  38.43\n",
       "2019-01-07 09:30:00-05:00  40.10\n",
       "2019-01-08 09:30:00-05:00  40.22"
      ]
     },
     "execution_count": 18,
     "metadata": {},
     "output_type": "execute_result"
    }
   ],
   "source": [
    "ARKK_df.head()"
   ]
  },
  {
   "cell_type": "code",
   "execution_count": 19,
   "id": "1ec9cccd-b9c2-473a-86b8-be5d1e5f0283",
   "metadata": {},
   "outputs": [
    {
     "data": {
      "text/html": [
       "<div>\n",
       "<style scoped>\n",
       "    .dataframe tbody tr th:only-of-type {\n",
       "        vertical-align: middle;\n",
       "    }\n",
       "\n",
       "    .dataframe tbody tr th {\n",
       "        vertical-align: top;\n",
       "    }\n",
       "\n",
       "    .dataframe thead th {\n",
       "        text-align: right;\n",
       "    }\n",
       "</style>\n",
       "<table border=\"1\" class=\"dataframe\">\n",
       "  <thead>\n",
       "    <tr style=\"text-align: right;\">\n",
       "      <th></th>\n",
       "      <th>close</th>\n",
       "    </tr>\n",
       "    <tr>\n",
       "      <th>time</th>\n",
       "      <th></th>\n",
       "    </tr>\n",
       "  </thead>\n",
       "  <tbody>\n",
       "    <tr>\n",
       "      <th>2019-01-02 09:30:00-05:00</th>\n",
       "      <td>6665.94</td>\n",
       "    </tr>\n",
       "    <tr>\n",
       "      <th>2019-01-03 09:30:00-05:00</th>\n",
       "      <td>6463.50</td>\n",
       "    </tr>\n",
       "    <tr>\n",
       "      <th>2019-01-04 09:30:00-05:00</th>\n",
       "      <td>6738.86</td>\n",
       "    </tr>\n",
       "    <tr>\n",
       "      <th>2019-01-07 09:30:00-05:00</th>\n",
       "      <td>6823.47</td>\n",
       "    </tr>\n",
       "    <tr>\n",
       "      <th>2019-01-08 09:30:00-05:00</th>\n",
       "      <td>6897.00</td>\n",
       "    </tr>\n",
       "  </tbody>\n",
       "</table>\n",
       "</div>"
      ],
      "text/plain": [
       "                             close\n",
       "time                              \n",
       "2019-01-02 09:30:00-05:00  6665.94\n",
       "2019-01-03 09:30:00-05:00  6463.50\n",
       "2019-01-04 09:30:00-05:00  6738.86\n",
       "2019-01-07 09:30:00-05:00  6823.47\n",
       "2019-01-08 09:30:00-05:00  6897.00"
      ]
     },
     "execution_count": 19,
     "metadata": {},
     "output_type": "execute_result"
    }
   ],
   "source": [
    "NASDAQ_df.head()"
   ]
  },
  {
   "cell_type": "code",
   "execution_count": 20,
   "id": "1aa7f5e5-2035-4a76-81c5-bda759e3698b",
   "metadata": {},
   "outputs": [],
   "source": [
    "#calculate returns on ETFs and NASDAQ througout time period\n",
    "GBTC_df = GBTC_df.pct_change()"
   ]
  },
  {
   "cell_type": "code",
   "execution_count": 21,
   "id": "68445007-0f2c-4634-9e1c-526f0486671b",
   "metadata": {},
   "outputs": [
    {
     "data": {
      "text/html": [
       "<div>\n",
       "<style scoped>\n",
       "    .dataframe tbody tr th:only-of-type {\n",
       "        vertical-align: middle;\n",
       "    }\n",
       "\n",
       "    .dataframe tbody tr th {\n",
       "        vertical-align: top;\n",
       "    }\n",
       "\n",
       "    .dataframe thead th {\n",
       "        text-align: right;\n",
       "    }\n",
       "</style>\n",
       "<table border=\"1\" class=\"dataframe\">\n",
       "  <thead>\n",
       "    <tr style=\"text-align: right;\">\n",
       "      <th></th>\n",
       "      <th>close</th>\n",
       "    </tr>\n",
       "    <tr>\n",
       "      <th>time</th>\n",
       "      <th></th>\n",
       "    </tr>\n",
       "  </thead>\n",
       "  <tbody>\n",
       "    <tr>\n",
       "      <th>2019-01-02 09:30:00-05:00</th>\n",
       "      <td>NaN</td>\n",
       "    </tr>\n",
       "    <tr>\n",
       "      <th>2019-01-03 09:30:00-05:00</th>\n",
       "      <td>-0.021645</td>\n",
       "    </tr>\n",
       "    <tr>\n",
       "      <th>2019-01-04 09:30:00-05:00</th>\n",
       "      <td>0.002212</td>\n",
       "    </tr>\n",
       "    <tr>\n",
       "      <th>2019-01-07 09:30:00-05:00</th>\n",
       "      <td>0.072848</td>\n",
       "    </tr>\n",
       "    <tr>\n",
       "      <th>2019-01-08 09:30:00-05:00</th>\n",
       "      <td>0.020576</td>\n",
       "    </tr>\n",
       "  </tbody>\n",
       "</table>\n",
       "</div>"
      ],
      "text/plain": [
       "                              close\n",
       "time                               \n",
       "2019-01-02 09:30:00-05:00       NaN\n",
       "2019-01-03 09:30:00-05:00 -0.021645\n",
       "2019-01-04 09:30:00-05:00  0.002212\n",
       "2019-01-07 09:30:00-05:00  0.072848\n",
       "2019-01-08 09:30:00-05:00  0.020576"
      ]
     },
     "execution_count": 21,
     "metadata": {},
     "output_type": "execute_result"
    }
   ],
   "source": [
    "GBTC_df.head()"
   ]
  },
  {
   "cell_type": "code",
   "execution_count": 22,
   "id": "367b9be8-e1f2-408f-8ec3-f622a7d1acb0",
   "metadata": {},
   "outputs": [],
   "source": [
    "#calculate returns on ETFs and NASDAQ througout time period\n",
    "ARKK_df = ARKK_df.pct_change()"
   ]
  },
  {
   "cell_type": "code",
   "execution_count": 23,
   "id": "f968cee1-73a3-45e4-8049-49de665983d6",
   "metadata": {},
   "outputs": [
    {
     "data": {
      "text/html": [
       "<div>\n",
       "<style scoped>\n",
       "    .dataframe tbody tr th:only-of-type {\n",
       "        vertical-align: middle;\n",
       "    }\n",
       "\n",
       "    .dataframe tbody tr th {\n",
       "        vertical-align: top;\n",
       "    }\n",
       "\n",
       "    .dataframe thead th {\n",
       "        text-align: right;\n",
       "    }\n",
       "</style>\n",
       "<table border=\"1\" class=\"dataframe\">\n",
       "  <thead>\n",
       "    <tr style=\"text-align: right;\">\n",
       "      <th></th>\n",
       "      <th>close</th>\n",
       "    </tr>\n",
       "    <tr>\n",
       "      <th>time</th>\n",
       "      <th></th>\n",
       "    </tr>\n",
       "  </thead>\n",
       "  <tbody>\n",
       "    <tr>\n",
       "      <th>2019-01-02 09:30:00-05:00</th>\n",
       "      <td>NaN</td>\n",
       "    </tr>\n",
       "    <tr>\n",
       "      <th>2019-01-03 09:30:00-05:00</th>\n",
       "      <td>-0.032870</td>\n",
       "    </tr>\n",
       "    <tr>\n",
       "      <th>2019-01-04 09:30:00-05:00</th>\n",
       "      <td>0.061896</td>\n",
       "    </tr>\n",
       "    <tr>\n",
       "      <th>2019-01-07 09:30:00-05:00</th>\n",
       "      <td>0.043456</td>\n",
       "    </tr>\n",
       "    <tr>\n",
       "      <th>2019-01-08 09:30:00-05:00</th>\n",
       "      <td>0.002993</td>\n",
       "    </tr>\n",
       "  </tbody>\n",
       "</table>\n",
       "</div>"
      ],
      "text/plain": [
       "                              close\n",
       "time                               \n",
       "2019-01-02 09:30:00-05:00       NaN\n",
       "2019-01-03 09:30:00-05:00 -0.032870\n",
       "2019-01-04 09:30:00-05:00  0.061896\n",
       "2019-01-07 09:30:00-05:00  0.043456\n",
       "2019-01-08 09:30:00-05:00  0.002993"
      ]
     },
     "execution_count": 23,
     "metadata": {},
     "output_type": "execute_result"
    }
   ],
   "source": [
    "ARKK_df.head()"
   ]
  },
  {
   "cell_type": "code",
   "execution_count": 24,
   "id": "56018e86-3c0b-434f-aac6-fb9268c7d02d",
   "metadata": {},
   "outputs": [],
   "source": [
    "#calculate returns on ETFs and NASDAQ througout time period\n",
    "NASDAQ_df = NASDAQ_df.pct_change()"
   ]
  },
  {
   "cell_type": "code",
   "execution_count": 25,
   "id": "f2a391ad-c160-4ec4-9089-56a840512a24",
   "metadata": {},
   "outputs": [
    {
     "data": {
      "text/html": [
       "<div>\n",
       "<style scoped>\n",
       "    .dataframe tbody tr th:only-of-type {\n",
       "        vertical-align: middle;\n",
       "    }\n",
       "\n",
       "    .dataframe tbody tr th {\n",
       "        vertical-align: top;\n",
       "    }\n",
       "\n",
       "    .dataframe thead th {\n",
       "        text-align: right;\n",
       "    }\n",
       "</style>\n",
       "<table border=\"1\" class=\"dataframe\">\n",
       "  <thead>\n",
       "    <tr style=\"text-align: right;\">\n",
       "      <th></th>\n",
       "      <th>close</th>\n",
       "    </tr>\n",
       "    <tr>\n",
       "      <th>time</th>\n",
       "      <th></th>\n",
       "    </tr>\n",
       "  </thead>\n",
       "  <tbody>\n",
       "    <tr>\n",
       "      <th>2022-07-08 09:30:00-04:00</th>\n",
       "      <td>0.001201</td>\n",
       "    </tr>\n",
       "    <tr>\n",
       "      <th>2022-07-11 09:30:00-04:00</th>\n",
       "      <td>-0.022579</td>\n",
       "    </tr>\n",
       "    <tr>\n",
       "      <th>2022-07-12 09:30:00-04:00</th>\n",
       "      <td>-0.009485</td>\n",
       "    </tr>\n",
       "    <tr>\n",
       "      <th>2022-07-13 09:30:00-04:00</th>\n",
       "      <td>-0.001522</td>\n",
       "    </tr>\n",
       "    <tr>\n",
       "      <th>2022-07-14 09:30:00-04:00</th>\n",
       "      <td>0.000320</td>\n",
       "    </tr>\n",
       "  </tbody>\n",
       "</table>\n",
       "</div>"
      ],
      "text/plain": [
       "                              close\n",
       "time                               \n",
       "2022-07-08 09:30:00-04:00  0.001201\n",
       "2022-07-11 09:30:00-04:00 -0.022579\n",
       "2022-07-12 09:30:00-04:00 -0.009485\n",
       "2022-07-13 09:30:00-04:00 -0.001522\n",
       "2022-07-14 09:30:00-04:00  0.000320"
      ]
     },
     "execution_count": 25,
     "metadata": {},
     "output_type": "execute_result"
    }
   ],
   "source": [
    "NASDAQ_df.tail()"
   ]
  },
  {
   "cell_type": "code",
   "execution_count": 26,
   "id": "52890c12-9647-48ba-89bf-e39ce39dc30b",
   "metadata": {},
   "outputs": [],
   "source": [
    "SP500_df = SP500_df.pct_change()"
   ]
  },
  {
   "cell_type": "code",
   "execution_count": 27,
   "id": "785023d7-8640-45a4-892b-7c738dd16dc9",
   "metadata": {},
   "outputs": [
    {
     "data": {
      "text/html": [
       "<div>\n",
       "<style scoped>\n",
       "    .dataframe tbody tr th:only-of-type {\n",
       "        vertical-align: middle;\n",
       "    }\n",
       "\n",
       "    .dataframe tbody tr th {\n",
       "        vertical-align: top;\n",
       "    }\n",
       "\n",
       "    .dataframe thead th {\n",
       "        text-align: right;\n",
       "    }\n",
       "</style>\n",
       "<table border=\"1\" class=\"dataframe\">\n",
       "  <thead>\n",
       "    <tr style=\"text-align: right;\">\n",
       "      <th></th>\n",
       "      <th>close</th>\n",
       "    </tr>\n",
       "    <tr>\n",
       "      <th>time</th>\n",
       "      <th></th>\n",
       "    </tr>\n",
       "  </thead>\n",
       "  <tbody>\n",
       "    <tr>\n",
       "      <th>2019-01-02 09:30:00-05:00</th>\n",
       "      <td>NaN</td>\n",
       "    </tr>\n",
       "    <tr>\n",
       "      <th>2019-01-03 09:30:00-05:00</th>\n",
       "      <td>-0.030369</td>\n",
       "    </tr>\n",
       "    <tr>\n",
       "      <th>2019-01-04 09:30:00-05:00</th>\n",
       "      <td>0.042602</td>\n",
       "    </tr>\n",
       "    <tr>\n",
       "      <th>2019-01-07 09:30:00-05:00</th>\n",
       "      <td>0.012556</td>\n",
       "    </tr>\n",
       "    <tr>\n",
       "      <th>2019-01-08 09:30:00-05:00</th>\n",
       "      <td>0.010776</td>\n",
       "    </tr>\n",
       "  </tbody>\n",
       "</table>\n",
       "</div>"
      ],
      "text/plain": [
       "                              close\n",
       "time                               \n",
       "2019-01-02 09:30:00-05:00       NaN\n",
       "2019-01-03 09:30:00-05:00 -0.030369\n",
       "2019-01-04 09:30:00-05:00  0.042602\n",
       "2019-01-07 09:30:00-05:00  0.012556\n",
       "2019-01-08 09:30:00-05:00  0.010776"
      ]
     },
     "execution_count": 27,
     "metadata": {},
     "output_type": "execute_result"
    }
   ],
   "source": [
    "SP500_df.head()"
   ]
  },
  {
   "cell_type": "code",
   "execution_count": 28,
   "id": "818a203d-809a-439a-b4aa-b45bcd2d6682",
   "metadata": {},
   "outputs": [],
   "source": [
    "# Rename `Close` Column to 'return'\n",
    "GBTC_df = GBTC_df.rename(columns = {\n",
    "    \"close\" : \"GBTC_return\"\n",
    "})"
   ]
  },
  {
   "cell_type": "code",
   "execution_count": 29,
   "id": "1fd64995-9bd5-4dee-b9e3-929ad5a903d7",
   "metadata": {},
   "outputs": [
    {
     "data": {
      "text/html": [
       "<div>\n",
       "<style scoped>\n",
       "    .dataframe tbody tr th:only-of-type {\n",
       "        vertical-align: middle;\n",
       "    }\n",
       "\n",
       "    .dataframe tbody tr th {\n",
       "        vertical-align: top;\n",
       "    }\n",
       "\n",
       "    .dataframe thead th {\n",
       "        text-align: right;\n",
       "    }\n",
       "</style>\n",
       "<table border=\"1\" class=\"dataframe\">\n",
       "  <thead>\n",
       "    <tr style=\"text-align: right;\">\n",
       "      <th></th>\n",
       "      <th>GBTC_return</th>\n",
       "    </tr>\n",
       "    <tr>\n",
       "      <th>time</th>\n",
       "      <th></th>\n",
       "    </tr>\n",
       "  </thead>\n",
       "  <tbody>\n",
       "    <tr>\n",
       "      <th>2022-07-08 09:30:00-04:00</th>\n",
       "      <td>0.001455</td>\n",
       "    </tr>\n",
       "    <tr>\n",
       "      <th>2022-07-11 09:30:00-04:00</th>\n",
       "      <td>-0.066812</td>\n",
       "    </tr>\n",
       "    <tr>\n",
       "      <th>2022-07-12 09:30:00-04:00</th>\n",
       "      <td>-0.049805</td>\n",
       "    </tr>\n",
       "    <tr>\n",
       "      <th>2022-07-13 09:30:00-04:00</th>\n",
       "      <td>0.016380</td>\n",
       "    </tr>\n",
       "    <tr>\n",
       "      <th>2022-07-14 09:30:00-04:00</th>\n",
       "      <td>-0.004029</td>\n",
       "    </tr>\n",
       "  </tbody>\n",
       "</table>\n",
       "</div>"
      ],
      "text/plain": [
       "                           GBTC_return\n",
       "time                                  \n",
       "2022-07-08 09:30:00-04:00     0.001455\n",
       "2022-07-11 09:30:00-04:00    -0.066812\n",
       "2022-07-12 09:30:00-04:00    -0.049805\n",
       "2022-07-13 09:30:00-04:00     0.016380\n",
       "2022-07-14 09:30:00-04:00    -0.004029"
      ]
     },
     "execution_count": 29,
     "metadata": {},
     "output_type": "execute_result"
    }
   ],
   "source": [
    "GBTC_df.tail()"
   ]
  },
  {
   "cell_type": "code",
   "execution_count": 30,
   "id": "49c848b2-4466-428c-bd55-fd5c9fd70d25",
   "metadata": {},
   "outputs": [],
   "source": [
    "# Rename `Close` Column to 'return'\n",
    "ARKK_df = ARKK_df.rename(columns = {\n",
    "    \"close\" : \"ARKK return\"\n",
    "})"
   ]
  },
  {
   "cell_type": "code",
   "execution_count": 31,
   "id": "a3010f2e-87e7-4503-a1fa-03facfdaa4e1",
   "metadata": {},
   "outputs": [
    {
     "data": {
      "text/html": [
       "<div>\n",
       "<style scoped>\n",
       "    .dataframe tbody tr th:only-of-type {\n",
       "        vertical-align: middle;\n",
       "    }\n",
       "\n",
       "    .dataframe tbody tr th {\n",
       "        vertical-align: top;\n",
       "    }\n",
       "\n",
       "    .dataframe thead th {\n",
       "        text-align: right;\n",
       "    }\n",
       "</style>\n",
       "<table border=\"1\" class=\"dataframe\">\n",
       "  <thead>\n",
       "    <tr style=\"text-align: right;\">\n",
       "      <th></th>\n",
       "      <th>ARKK return</th>\n",
       "    </tr>\n",
       "    <tr>\n",
       "      <th>time</th>\n",
       "      <th></th>\n",
       "    </tr>\n",
       "  </thead>\n",
       "  <tbody>\n",
       "    <tr>\n",
       "      <th>2022-07-07 09:30:00-04:00</th>\n",
       "      <td>0.065287</td>\n",
       "    </tr>\n",
       "    <tr>\n",
       "      <th>2022-07-08 09:30:00-04:00</th>\n",
       "      <td>0.000641</td>\n",
       "    </tr>\n",
       "    <tr>\n",
       "      <th>2022-07-11 09:30:00-04:00</th>\n",
       "      <td>-0.069142</td>\n",
       "    </tr>\n",
       "    <tr>\n",
       "      <th>2022-07-12 09:30:00-04:00</th>\n",
       "      <td>0.016048</td>\n",
       "    </tr>\n",
       "    <tr>\n",
       "      <th>2022-07-13 09:30:00-04:00</th>\n",
       "      <td>-0.006995</td>\n",
       "    </tr>\n",
       "  </tbody>\n",
       "</table>\n",
       "</div>"
      ],
      "text/plain": [
       "                           ARKK return\n",
       "time                                  \n",
       "2022-07-07 09:30:00-04:00     0.065287\n",
       "2022-07-08 09:30:00-04:00     0.000641\n",
       "2022-07-11 09:30:00-04:00    -0.069142\n",
       "2022-07-12 09:30:00-04:00     0.016048\n",
       "2022-07-13 09:30:00-04:00    -0.006995"
      ]
     },
     "execution_count": 31,
     "metadata": {},
     "output_type": "execute_result"
    }
   ],
   "source": [
    "ARKK_df.tail()"
   ]
  },
  {
   "cell_type": "code",
   "execution_count": 32,
   "id": "d69cbe93-f91d-40e3-9886-a9801676e19a",
   "metadata": {},
   "outputs": [],
   "source": [
    "# Rename `Close` Column to 'return'\n",
    "NASDAQ_df = NASDAQ_df.rename(columns = {\n",
    "    \"close\" : \"NASDAQ return\"\n",
    "})"
   ]
  },
  {
   "cell_type": "code",
   "execution_count": 33,
   "id": "a196ff7e-d792-4cf0-825f-8c1d89390e88",
   "metadata": {},
   "outputs": [
    {
     "data": {
      "text/html": [
       "<div>\n",
       "<style scoped>\n",
       "    .dataframe tbody tr th:only-of-type {\n",
       "        vertical-align: middle;\n",
       "    }\n",
       "\n",
       "    .dataframe tbody tr th {\n",
       "        vertical-align: top;\n",
       "    }\n",
       "\n",
       "    .dataframe thead th {\n",
       "        text-align: right;\n",
       "    }\n",
       "</style>\n",
       "<table border=\"1\" class=\"dataframe\">\n",
       "  <thead>\n",
       "    <tr style=\"text-align: right;\">\n",
       "      <th></th>\n",
       "      <th>NASDAQ return</th>\n",
       "    </tr>\n",
       "    <tr>\n",
       "      <th>time</th>\n",
       "      <th></th>\n",
       "    </tr>\n",
       "  </thead>\n",
       "  <tbody>\n",
       "    <tr>\n",
       "      <th>2022-07-08 09:30:00-04:00</th>\n",
       "      <td>0.001201</td>\n",
       "    </tr>\n",
       "    <tr>\n",
       "      <th>2022-07-11 09:30:00-04:00</th>\n",
       "      <td>-0.022579</td>\n",
       "    </tr>\n",
       "    <tr>\n",
       "      <th>2022-07-12 09:30:00-04:00</th>\n",
       "      <td>-0.009485</td>\n",
       "    </tr>\n",
       "    <tr>\n",
       "      <th>2022-07-13 09:30:00-04:00</th>\n",
       "      <td>-0.001522</td>\n",
       "    </tr>\n",
       "    <tr>\n",
       "      <th>2022-07-14 09:30:00-04:00</th>\n",
       "      <td>0.000320</td>\n",
       "    </tr>\n",
       "  </tbody>\n",
       "</table>\n",
       "</div>"
      ],
      "text/plain": [
       "                           NASDAQ return\n",
       "time                                    \n",
       "2022-07-08 09:30:00-04:00       0.001201\n",
       "2022-07-11 09:30:00-04:00      -0.022579\n",
       "2022-07-12 09:30:00-04:00      -0.009485\n",
       "2022-07-13 09:30:00-04:00      -0.001522\n",
       "2022-07-14 09:30:00-04:00       0.000320"
      ]
     },
     "execution_count": 33,
     "metadata": {},
     "output_type": "execute_result"
    }
   ],
   "source": [
    "NASDAQ_df.tail()"
   ]
  },
  {
   "cell_type": "code",
   "execution_count": 34,
   "id": "a1159f80-c332-4310-b20a-8fdb97ae1db9",
   "metadata": {},
   "outputs": [],
   "source": [
    "SP500_df = SP500_df.rename(columns = {\n",
    "    \"close\" : \"SP500 return\"\n",
    "})"
   ]
  },
  {
   "cell_type": "code",
   "execution_count": 35,
   "id": "4732acd9-244b-4006-aeed-0b04fd2f4548",
   "metadata": {},
   "outputs": [],
   "source": [
    "#sort dataframes by index - time\n",
    "GBTC_df=GBTC_df.sort_index()\n",
    "ARKK_df=ARKK_df.sort_index()\n",
    "NASDAQ_df=NASDAQ_df.sort_index()"
   ]
  },
  {
   "cell_type": "code",
   "execution_count": 36,
   "id": "1ed9abf2-2696-4e11-8c21-3d9ca0f149d7",
   "metadata": {},
   "outputs": [],
   "source": [
    "# Join into a single DataFrame with columns for each portfolio's returns.\n",
    "combined_df = pd.concat([GBTC_df, ARKK_df, NASDAQ_df, SP500_df], axis=\"columns\", join=\"inner\"\n",
    ")"
   ]
  },
  {
   "cell_type": "code",
   "execution_count": 37,
   "id": "088dcfca-4945-4ae2-8754-40acf9a1a76e",
   "metadata": {},
   "outputs": [
    {
     "data": {
      "text/html": [
       "<div>\n",
       "<style scoped>\n",
       "    .dataframe tbody tr th:only-of-type {\n",
       "        vertical-align: middle;\n",
       "    }\n",
       "\n",
       "    .dataframe tbody tr th {\n",
       "        vertical-align: top;\n",
       "    }\n",
       "\n",
       "    .dataframe thead th {\n",
       "        text-align: right;\n",
       "    }\n",
       "</style>\n",
       "<table border=\"1\" class=\"dataframe\">\n",
       "  <thead>\n",
       "    <tr style=\"text-align: right;\">\n",
       "      <th></th>\n",
       "      <th>GBTC_return</th>\n",
       "      <th>ARKK return</th>\n",
       "      <th>NASDAQ return</th>\n",
       "      <th>SP500 return</th>\n",
       "    </tr>\n",
       "    <tr>\n",
       "      <th>time</th>\n",
       "      <th></th>\n",
       "      <th></th>\n",
       "      <th></th>\n",
       "      <th></th>\n",
       "    </tr>\n",
       "  </thead>\n",
       "  <tbody>\n",
       "    <tr>\n",
       "      <th>2019-01-02 09:30:00-05:00</th>\n",
       "      <td>NaN</td>\n",
       "      <td>NaN</td>\n",
       "      <td>NaN</td>\n",
       "      <td>NaN</td>\n",
       "    </tr>\n",
       "    <tr>\n",
       "      <th>2019-01-03 09:30:00-05:00</th>\n",
       "      <td>-0.021645</td>\n",
       "      <td>-0.032870</td>\n",
       "      <td>-0.030369</td>\n",
       "      <td>-0.030369</td>\n",
       "    </tr>\n",
       "    <tr>\n",
       "      <th>2019-01-04 09:30:00-05:00</th>\n",
       "      <td>0.002212</td>\n",
       "      <td>0.061896</td>\n",
       "      <td>0.042602</td>\n",
       "      <td>0.042602</td>\n",
       "    </tr>\n",
       "    <tr>\n",
       "      <th>2019-01-07 09:30:00-05:00</th>\n",
       "      <td>0.072848</td>\n",
       "      <td>0.043456</td>\n",
       "      <td>0.012556</td>\n",
       "      <td>0.012556</td>\n",
       "    </tr>\n",
       "    <tr>\n",
       "      <th>2019-01-08 09:30:00-05:00</th>\n",
       "      <td>0.020576</td>\n",
       "      <td>0.002993</td>\n",
       "      <td>0.010776</td>\n",
       "      <td>0.010776</td>\n",
       "    </tr>\n",
       "    <tr>\n",
       "      <th>...</th>\n",
       "      <td>...</td>\n",
       "      <td>...</td>\n",
       "      <td>...</td>\n",
       "      <td>...</td>\n",
       "    </tr>\n",
       "    <tr>\n",
       "      <th>2022-07-07 09:30:00-04:00</th>\n",
       "      <td>0.093005</td>\n",
       "      <td>0.065287</td>\n",
       "      <td>0.022839</td>\n",
       "      <td>0.022839</td>\n",
       "    </tr>\n",
       "    <tr>\n",
       "      <th>2022-07-08 09:30:00-04:00</th>\n",
       "      <td>0.001455</td>\n",
       "      <td>0.000641</td>\n",
       "      <td>0.001201</td>\n",
       "      <td>0.001201</td>\n",
       "    </tr>\n",
       "    <tr>\n",
       "      <th>2022-07-11 09:30:00-04:00</th>\n",
       "      <td>-0.066812</td>\n",
       "      <td>-0.069142</td>\n",
       "      <td>-0.022579</td>\n",
       "      <td>-0.022579</td>\n",
       "    </tr>\n",
       "    <tr>\n",
       "      <th>2022-07-12 09:30:00-04:00</th>\n",
       "      <td>-0.049805</td>\n",
       "      <td>0.016048</td>\n",
       "      <td>-0.009485</td>\n",
       "      <td>-0.009485</td>\n",
       "    </tr>\n",
       "    <tr>\n",
       "      <th>2022-07-13 09:30:00-04:00</th>\n",
       "      <td>0.016380</td>\n",
       "      <td>-0.006995</td>\n",
       "      <td>-0.001522</td>\n",
       "      <td>-0.001522</td>\n",
       "    </tr>\n",
       "  </tbody>\n",
       "</table>\n",
       "<p>889 rows × 4 columns</p>\n",
       "</div>"
      ],
      "text/plain": [
       "                           GBTC_return  ARKK return  NASDAQ return  \\\n",
       "time                                                                 \n",
       "2019-01-02 09:30:00-05:00          NaN          NaN            NaN   \n",
       "2019-01-03 09:30:00-05:00    -0.021645    -0.032870      -0.030369   \n",
       "2019-01-04 09:30:00-05:00     0.002212     0.061896       0.042602   \n",
       "2019-01-07 09:30:00-05:00     0.072848     0.043456       0.012556   \n",
       "2019-01-08 09:30:00-05:00     0.020576     0.002993       0.010776   \n",
       "...                                ...          ...            ...   \n",
       "2022-07-07 09:30:00-04:00     0.093005     0.065287       0.022839   \n",
       "2022-07-08 09:30:00-04:00     0.001455     0.000641       0.001201   \n",
       "2022-07-11 09:30:00-04:00    -0.066812    -0.069142      -0.022579   \n",
       "2022-07-12 09:30:00-04:00    -0.049805     0.016048      -0.009485   \n",
       "2022-07-13 09:30:00-04:00     0.016380    -0.006995      -0.001522   \n",
       "\n",
       "                           SP500 return  \n",
       "time                                     \n",
       "2019-01-02 09:30:00-05:00           NaN  \n",
       "2019-01-03 09:30:00-05:00     -0.030369  \n",
       "2019-01-04 09:30:00-05:00      0.042602  \n",
       "2019-01-07 09:30:00-05:00      0.012556  \n",
       "2019-01-08 09:30:00-05:00      0.010776  \n",
       "...                                 ...  \n",
       "2022-07-07 09:30:00-04:00      0.022839  \n",
       "2022-07-08 09:30:00-04:00      0.001201  \n",
       "2022-07-11 09:30:00-04:00     -0.022579  \n",
       "2022-07-12 09:30:00-04:00     -0.009485  \n",
       "2022-07-13 09:30:00-04:00     -0.001522  \n",
       "\n",
       "[889 rows x 4 columns]"
      ]
     },
     "execution_count": 37,
     "metadata": {},
     "output_type": "execute_result"
    }
   ],
   "source": [
    "combined_df"
   ]
  },
  {
   "cell_type": "code",
   "execution_count": 38,
   "id": "c8902815-ba0a-41e3-9cb1-06ccdd128a04",
   "metadata": {},
   "outputs": [
    {
     "data": {
      "text/plain": [
       "<AxesSubplot:xlabel='time'>"
      ]
     },
     "execution_count": 38,
     "metadata": {},
     "output_type": "execute_result"
    },
    {
     "data": {
      "image/png": "[encoded data removed]",
      "text/plain": [
       "<Figure size 432x288 with 1 Axes>"
      ]
     },
     "metadata": {
      "needs_background": "light"
     },
     "output_type": "display_data"
    }
   ],
   "source": [
    "# Plot daily returns of all portfolios\n",
    "combined_df.plot()"
   ]
  },
  {
   "cell_type": "code",
   "execution_count": 39,
   "id": "1768cd6e-b566-414e-8451-1e6d757c0528",
   "metadata": {},
   "outputs": [
    {
     "data": {
      "text/plain": [
       "<AxesSubplot:title={'center':'Cumulative Returns'}, xlabel='time'>"
      ]
     },
     "execution_count": 39,
     "metadata": {},
     "output_type": "execute_result"
    },
    {
     "data": {
      "image/png": "[encoded data removed]",
      "text/plain": [
       "<Figure size 1440x720 with 1 Axes>"
      ]
     },
     "metadata": {
      "needs_background": "light"
     },
     "output_type": "display_data"
    }
   ],
   "source": [
    "# Calculate cumulative returns of all portfolios\n",
    "cumulative_returns = (1 + combined_df).cumprod() - 1\n",
    "\n",
    "cumulative_returns.head()\n",
    "\n",
    "# Plot cumulative returns\n",
    "cumulative_returns.plot(title=\"Cumulative Returns\", figsize=(20,10))"
   ]
  },
  {
   "cell_type": "code",
   "execution_count": 43,
   "id": "0fd141c1-c67d-47cf-a703-34f9c5f11519",
   "metadata": {},
   "outputs": [],
   "source": [
    "all_portfolio_21_std = combined_df.rolling(window=21).std()"
   ]
  },
  {
   "cell_type": "code",
   "execution_count": 44,
   "id": "91769464-65d7-4924-bcdc-26e750101e55",
   "metadata": {},
   "outputs": [
    {
     "data": {
      "text/plain": [
       "<AxesSubplot:title={'center':'Rolling Standard Deviation 21 day'}, xlabel='time'>"
      ]
     },
     "execution_count": 44,
     "metadata": {},
     "output_type": "execute_result"
    },
    {
     "data": {
      "image/png": "[encoded data removed]",
      "text/plain": [
       "<Figure size 432x288 with 1 Axes>"
      ]
     },
     "metadata": {
      "needs_background": "light"
     },
     "output_type": "display_data"
    }
   ],
   "source": [
    "all_portfolio_21_std.plot(title = 'Rolling Standard Deviation 21 day')\n"
   ]
  },
  {
   "cell_type": "code",
   "execution_count": 45,
   "id": "3747e063-96e1-4da6-8d3d-d5ae51c4757b",
   "metadata": {},
   "outputs": [
    {
     "data": {
      "text/plain": [
       "GBTC_return      0.754979\n",
       "ARKK return      0.333188\n",
       "NASDAQ return    0.696863\n",
       "SP500 return     0.696863\n",
       "dtype: float64"
      ]
     },
     "execution_count": 45,
     "metadata": {},
     "output_type": "execute_result"
    }
   ],
   "source": [
    "sharpe_ratios = (combined_df.mean() * 252) / (combined_df.std() * np.sqrt(252))\n",
    "\n",
    "sharpe_ratios"
   ]
  },
  {
   "cell_type": "code",
   "execution_count": 46,
   "id": "595375e7-026f-40b5-8813-f96c7a8d229b",
   "metadata": {},
   "outputs": [
    {
     "data": {
      "text/plain": [
       "<AxesSubplot:>"
      ]
     },
     "execution_count": 46,
     "metadata": {},
     "output_type": "execute_result"
    },
    {
     "data": {
      "image/png": "[encoded data removed]",
      "text/plain": [
       "<Figure size 720x360 with 1 Axes>"
      ]
     },
     "metadata": {
      "needs_background": "light"
     },
     "output_type": "display_data"
    }
   ],
   "source": [
    "sharpe_ratios.plot(kind = \"bar\", figsize = (10, 5))"
   ]
  },
  {
   "cell_type": "code",
   "execution_count": null,
   "id": "23c336f2-e074-4667-bda2-c678e1a1e6bd",
   "metadata": {},
   "outputs": [],
   "source": []
  },
  {
   "cell_type": "code",
   "execution_count": null,
   "id": "6450efed-a329-4733-a0a4-da25dd6fff9c",
   "metadata": {},
   "outputs": [],
   "source": []
  }
 ],
 "metadata": {
  "kernelspec": {
   "display_name": "Python 3 (ipykernel)",
   "language": "python",
   "name": "python3"
  },
  "language_info": {
   "codemirror_mode": {
    "name": "ipython",
    "version": 3
   },
   "file_extension": ".py",
   "mimetype": "text/x-python",
   "name": "python",
   "nbconvert_exporter": "python",
   "pygments_lexer": "ipython3",
   "version": "3.9.12"
  }
 },
 "nbformat": 4,
 "nbformat_minor": 5
}
